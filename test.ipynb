{
 "cells": [
  {
   "cell_type": "code",
   "execution_count": 4,
   "metadata": {},
   "outputs": [
    {
     "name": "stdout",
     "output_type": "stream",
     "text": [
      "inited stanford CoreNLP client, dont forget to close it!\n",
      "closed stanford CoreNLP client!\n"
     ]
    }
   ],
   "source": [
    "import preprocess as pp\n",
    "import configs\n",
    "import persister\n",
    "import relation\n",
    "import lda\n",
    "\n",
    "from stanfordcorenlp import StanfordCoreNLP\n",
    "from nltk import sent_tokenize, word_tokenize\n",
    "from nltk.tree import Tree"
   ]
  },
  {
   "cell_type": "code",
   "execution_count": null,
   "metadata": {},
   "outputs": [],
   "source": [
    "# 文档向量化测试\n",
    "# count vectorizer"
   ]
  },
  {
   "cell_type": "code",
   "execution_count": null,
   "metadata": {},
   "outputs": [],
   "source": [
    "a = \"Many existing knowledge bases(KBs), including Freebase, Yago, and NELL, rely on a ﬁxed ontology, given as an input to the system, which deﬁnes the data to be cataloged in the KB, i.e., a hierarchy of categories and relations between them. The system then extracts facts that match the predeﬁned ontology. We propose an unsupervised model that jointly learns a latent ontological structure of an input corpus, and identiﬁes facts from the corpus that match the learned structure. Our approach combines mixed membership stochastic block models and topic models to infer a structure by jointly modeling text, a latent concept hierarchy, and latent semantic relationships among the entities mentioned in the text. As a case study, we apply the model to a corpus of Web documents from the software domain,and evaluate the accuracy of the various components of the learned ontology. \"\n",
    "b = [\"hello world. what the fuck.\"]"
   ]
  },
  {
   "cell_type": "code",
   "execution_count": null,
   "metadata": {},
   "outputs": [],
   "source": [
    "c = [\" \".join(preprocess(a))]\n",
    "vector = CountVectorizer(ngram_range=(1, 2), vocabulary=[\"knowledge base\"], stop_words='english')\n",
    "vector.build_analyzer()\n",
    "x = vector.fit_transform(c)"
   ]
  },
  {
   "cell_type": "code",
   "execution_count": null,
   "metadata": {},
   "outputs": [],
   "source": [
    "estimator = CountVectorizer(ngram_range=(1, 2), vocabulary=['fuck', 'hello', 'world', \"hello world\"], stop_words='english')\n",
    "estimator.build_analyzer()\n",
    "res = estimator.fit_transform(b)"
   ]
  },
  {
   "cell_type": "code",
   "execution_count": null,
   "metadata": {},
   "outputs": [],
   "source": [
    "estimator.get_feature_names()"
   ]
  },
  {
   "cell_type": "code",
   "execution_count": null,
   "metadata": {},
   "outputs": [],
   "source": [
    "res.toarray()\n",
    "# estimator.vocabulary_"
   ]
  },
  {
   "cell_type": "code",
   "execution_count": null,
   "metadata": {},
   "outputs": [],
   "source": [
    "# 斯坦福nlp工具测试\n",
    "# stanfordcorenlp"
   ]
  },
  {
   "cell_type": "code",
   "execution_count": 10,
   "metadata": {},
   "outputs": [
    {
     "name": "stdout",
     "output_type": "stream",
     "text": [
      "Tokenize: ['Guangdong', 'University', 'of', 'Foreign', 'Studies', 'is', 'located', 'in', 'Guangzhou', '.']\n",
      "Part of Speech: [('Guangdong', 'NNP'), ('University', 'NNP'), ('of', 'IN'), ('Foreign', 'NNP'), ('Studies', 'NNPS'), ('is', 'VBZ'), ('located', 'JJ'), ('in', 'IN'), ('Guangzhou', 'NNP'), ('.', '.')]\n",
      "Named Entities: [('Guangdong', 'ORGANIZATION'), ('University', 'ORGANIZATION'), ('of', 'ORGANIZATION'), ('Foreign', 'ORGANIZATION'), ('Studies', 'ORGANIZATION'), ('is', 'O'), ('located', 'O'), ('in', 'O'), ('Guangzhou', 'CITY'), ('.', 'O')]\n",
      "Constituency Parsing: (ROOT\n",
      "  (S\n",
      "    (NP\n",
      "      (NP (NNP Guangdong) (NNP University))\n",
      "      (PP (IN of)\n",
      "        (NP (NNP Foreign) (NNPS Studies))))\n",
      "    (VP (VBZ is)\n",
      "      (ADJP (JJ located)\n",
      "        (PP (IN in)\n",
      "          (NP (NNP Guangzhou)))))\n",
      "    (. .)))\n",
      "Dependency Parsing: [('ROOT', 0, 7), ('compound', 2, 1), ('nsubjpass', 7, 2), ('case', 5, 3), ('compound', 5, 4), ('nmod', 2, 5), ('auxpass', 7, 6), ('case', 9, 8), ('nmod', 7, 9), ('punct', 7, 10)]\n"
     ]
    }
   ],
   "source": [
    "nlp = StanfordCoreNLP('/mnt/d/stanford-corenlp-full-2018-02-27', port=9000)\n",
    "sentence = 'Guangdong University of Foreign Studies is located in Guangzhou.'\n",
    "print('Tokenize:', nlp.word_tokenize(sentence))\n",
    "print('Part of Speech:', nlp.pos_tag(sentence))\n",
    "print('Named Entities:', nlp.ner(sentence))\n",
    "print('Constituency Parsing:', nlp.parse(sentence))\n",
    "print('Dependency Parsing:', nlp.dependency_parse(sentence))\n",
    "\n",
    "nlp.close() # Do not forget to close! The backend server will consume a lot memery."
   ]
  },
  {
   "cell_type": "code",
   "execution_count": null,
   "metadata": {},
   "outputs": [],
   "source": [
    "# 官方corenlp api\n",
    "# stanza"
   ]
  },
  {
   "cell_type": "code",
   "execution_count": null,
   "metadata": {},
   "outputs": [],
   "source": []
  },
  {
   "cell_type": "code",
   "execution_count": null,
   "metadata": {},
   "outputs": [],
   "source": [
    "# 新闻数据集测试\n",
    "# 20newsgroups"
   ]
  },
  {
   "cell_type": "code",
   "execution_count": null,
   "metadata": {},
   "outputs": [],
   "source": [
    "import newsgroups\n",
    "size = 500\n",
    "tmp = newsgroups.get_news_data(size)\n",
    "newsdata = []\n",
    "for cate in tmp:\n",
    "    newsdata.extend(cate)"
   ]
  },
  {
   "cell_type": "code",
   "execution_count": null,
   "metadata": {},
   "outputs": [],
   "source": [
    "texts = [' '.join(pp.preprocess_abstract(a)) for a in tmp]\n",
    "persister.save_json(configs.NEWSDATA, texts)"
   ]
  },
  {
   "cell_type": "code",
   "execution_count": null,
   "metadata": {},
   "outputs": [],
   "source": [
    "# 处理成句子\n",
    "# nltk.sent_tokenize"
   ]
  },
  {
   "cell_type": "code",
   "execution_count": null,
   "metadata": {},
   "outputs": [],
   "source": [
    "newssent = []\n",
    "for news in newsdata:\n",
    "    newssent.append(pp.split2sent(news))\n",
    "persister.save_json(configs.NEWSSENT, newssent)"
   ]
  },
  {
   "cell_type": "code",
   "execution_count": null,
   "metadata": {},
   "outputs": [],
   "source": [
    "newssenttoken = []\n",
    "for news in newssent:\n",
    "    tokenized_lemmatized_news = []\n",
    "    for sent in news:\n",
    "        tokenized_lemmatized_news.append(relation.lemmatize_sent_words(sent))\n",
    "    newssenttoken.append(tokenized_lemmatized_news)\n",
    "persister.save_json(configs.NEWSSENTTOKEN, newssenttoken)"
   ]
  },
  {
   "cell_type": "code",
   "execution_count": null,
   "metadata": {},
   "outputs": [],
   "source": [
    "# load preprossed data"
   ]
  },
  {
   "cell_type": "code",
   "execution_count": 7,
   "metadata": {},
   "outputs": [],
   "source": [
    "texts = persister.load_json(configs.NEWSDATA)\n",
    "newssent = persister.load_json(configs.NEWSSENT)\n",
    "newssenttoken = persister.load_json(configs.NEWSSENTTOKEN)"
   ]
  },
  {
   "cell_type": "code",
   "execution_count": null,
   "metadata": {
    "scrolled": true
   },
   "outputs": [],
   "source": [
    "# load lda res\n",
    "terms, doc_topic, topic_word = persister.read_lda(configs.NEWSLDA)\n",
    "lda.print_topics(topic_word, terms, doc_topic)"
   ]
  },
  {
   "cell_type": "code",
   "execution_count": null,
   "metadata": {},
   "outputs": [],
   "source": [
    "relation.CLI.pos_tag(newssent[432][13])"
   ]
  },
  {
   "cell_type": "code",
   "execution_count": null,
   "metadata": {},
   "outputs": [],
   "source": [
    "dparse = relation.CLI.dependency_parse(newssent[432][13])"
   ]
  },
  {
   "cell_type": "code",
   "execution_count": null,
   "metadata": {},
   "outputs": [],
   "source": [
    "from nltk.tokenize.stanford import StanfordTokenizer\n",
    "er=StanfordTokenizer()"
   ]
  },
  {
   "cell_type": "code",
   "execution_count": null,
   "metadata": {},
   "outputs": [],
   "source": [
    "cparse = relation.CLI.parse(newssent[432][13])\n",
    "print(cparse)\n",
    "t = Tree.fromstring(cparse)\n",
    "t.draw()"
   ]
  },
  {
   "cell_type": "code",
   "execution_count": null,
   "metadata": {},
   "outputs": [],
   "source": [
    "t.triples()"
   ]
  },
  {
   "cell_type": "code",
   "execution_count": null,
   "metadata": {},
   "outputs": [],
   "source": [
    "s = relation.get_sent_idx(newssenttoken[432], \"graphic\")"
   ]
  },
  {
   "cell_type": "code",
   "execution_count": null,
   "metadata": {},
   "outputs": [],
   "source": [
    "s"
   ]
  },
  {
   "cell_type": "code",
   "execution_count": 10,
   "metadata": {},
   "outputs": [
    {
     "data": {
      "text/plain": [
       "['In regards to fractal commpression, I have seen 2 fractal compressed \"movies\".',\n",
       " 'They were both fairly impressive.',\n",
       " 'The first one was a 64 gray scale \"movie\" of Casablanca, it was 1.3MB and had 11 minutes of 13 fps video.',\n",
       " 'It was a little grainy but not bad at all.',\n",
       " 'The second one I saw was only 3 minutes but it had 8 bit color with 10fps and measured in at 1.2MB.',\n",
       " 'I consider the fractal movies a practical thing to explore.',\n",
       " 'But unlike many  other formats out there, you do end up losing resolution.',\n",
       " 'I don\\'t know what kind of software/hardware was used for creating the \"movies\" I saw but the guy that showed them to me said it took 5-15 minutes per frame to generate.',\n",
       " 'But as I said above playback was 10 or more frames per second.',\n",
       " 'And how else could you put 11 minutes on one floppy disk?']"
      ]
     },
     "execution_count": 10,
     "metadata": {},
     "output_type": "execute_result"
    }
   ],
   "source": [
    "newssent[0]"
   ]
  },
  {
   "cell_type": "code",
   "execution_count": 2,
   "metadata": {},
   "outputs": [
    {
     "name": "stdout",
     "output_type": "stream",
     "text": [
      "[{'sentences': [{'index': 0, 'parse': \"(ROOT\\n  (S\\n    (SBAR (IN In)\\n      (S\\n        (VP (VBZ regards)\\n          (PP (TO to)\\n            (NP (JJ fractal) (NN commpression))))))\\n    (, ,)\\n    (NP (PRP I))\\n    (VP (VBP have)\\n      (VP (VBN seen)\\n        (S\\n          (NP (CD 2))\\n          (ADJP (JJ fractal))\\n          (S\\n            (VP (VBN compressed)\\n              (S (`` ``)\\n                (NP (NNS movies))\\n                ('' '')))))))\\n    (. .)))\", 'basicDependencies': [{'dep': 'ROOT', 'governor': 0, 'governorGloss': 'ROOT', 'dependent': 9, 'dependentGloss': 'seen'}, {'dep': 'case', 'governor': 2, 'governorGloss': 'regards', 'dependent': 1, 'dependentGloss': 'In'}, {'dep': 'nmod', 'governor': 9, 'governorGloss': 'seen', 'dependent': 2, 'dependentGloss': 'regards'}, {'dep': 'case', 'governor': 5, 'governorGloss': 'commpression', 'dependent': 3, 'dependentGloss': 'to'}, {'dep': 'amod', 'governor': 5, 'governorGloss': 'commpression', 'dependent': 4, 'dependentGloss': 'fractal'}, {'dep': 'nmod', 'governor': 2, 'governorGloss': 'regards', 'dependent': 5, 'dependentGloss': 'commpression'}, {'dep': 'punct', 'governor': 9, 'governorGloss': 'seen', 'dependent': 6, 'dependentGloss': ','}, {'dep': 'nsubj', 'governor': 9, 'governorGloss': 'seen', 'dependent': 7, 'dependentGloss': 'I'}, {'dep': 'aux', 'governor': 9, 'governorGloss': 'seen', 'dependent': 8, 'dependentGloss': 'have'}, {'dep': 'nummod', 'governor': 14, 'governorGloss': 'movies', 'dependent': 10, 'dependentGloss': '2'}, {'dep': 'amod', 'governor': 14, 'governorGloss': 'movies', 'dependent': 11, 'dependentGloss': 'fractal'}, {'dep': 'amod', 'governor': 14, 'governorGloss': 'movies', 'dependent': 12, 'dependentGloss': 'compressed'}, {'dep': 'punct', 'governor': 14, 'governorGloss': 'movies', 'dependent': 13, 'dependentGloss': '``'}, {'dep': 'dobj', 'governor': 9, 'governorGloss': 'seen', 'dependent': 14, 'dependentGloss': 'movies'}, {'dep': 'punct', 'governor': 9, 'governorGloss': 'seen', 'dependent': 15, 'dependentGloss': \"''\"}, {'dep': 'punct', 'governor': 9, 'governorGloss': 'seen', 'dependent': 16, 'dependentGloss': '.'}], 'enhancedDependencies': [{'dep': 'ROOT', 'governor': 0, 'governorGloss': 'ROOT', 'dependent': 9, 'dependentGloss': 'seen'}, {'dep': 'case', 'governor': 2, 'governorGloss': 'regards', 'dependent': 1, 'dependentGloss': 'In'}, {'dep': 'nmod:in', 'governor': 9, 'governorGloss': 'seen', 'dependent': 2, 'dependentGloss': 'regards'}, {'dep': 'case', 'governor': 5, 'governorGloss': 'commpression', 'dependent': 3, 'dependentGloss': 'to'}, {'dep': 'amod', 'governor': 5, 'governorGloss': 'commpression', 'dependent': 4, 'dependentGloss': 'fractal'}, {'dep': 'nmod:to', 'governor': 2, 'governorGloss': 'regards', 'dependent': 5, 'dependentGloss': 'commpression'}, {'dep': 'punct', 'governor': 9, 'governorGloss': 'seen', 'dependent': 6, 'dependentGloss': ','}, {'dep': 'nsubj', 'governor': 9, 'governorGloss': 'seen', 'dependent': 7, 'dependentGloss': 'I'}, {'dep': 'aux', 'governor': 9, 'governorGloss': 'seen', 'dependent': 8, 'dependentGloss': 'have'}, {'dep': 'nummod', 'governor': 14, 'governorGloss': 'movies', 'dependent': 10, 'dependentGloss': '2'}, {'dep': 'amod', 'governor': 14, 'governorGloss': 'movies', 'dependent': 11, 'dependentGloss': 'fractal'}, {'dep': 'amod', 'governor': 14, 'governorGloss': 'movies', 'dependent': 12, 'dependentGloss': 'compressed'}, {'dep': 'punct', 'governor': 14, 'governorGloss': 'movies', 'dependent': 13, 'dependentGloss': '``'}, {'dep': 'dobj', 'governor': 9, 'governorGloss': 'seen', 'dependent': 14, 'dependentGloss': 'movies'}, {'dep': 'punct', 'governor': 9, 'governorGloss': 'seen', 'dependent': 15, 'dependentGloss': \"''\"}, {'dep': 'punct', 'governor': 9, 'governorGloss': 'seen', 'dependent': 16, 'dependentGloss': '.'}], 'enhancedPlusPlusDependencies': [{'dep': 'ROOT', 'governor': 0, 'governorGloss': 'ROOT', 'dependent': 9, 'dependentGloss': 'seen'}, {'dep': 'case', 'governor': 2, 'governorGloss': 'regards', 'dependent': 1, 'dependentGloss': 'In'}, {'dep': 'nmod:in', 'governor': 9, 'governorGloss': 'seen', 'dependent': 2, 'dependentGloss': 'regards'}, {'dep': 'case', 'governor': 5, 'governorGloss': 'commpression', 'dependent': 3, 'dependentGloss': 'to'}, {'dep': 'amod', 'governor': 5, 'governorGloss': 'commpression', 'dependent': 4, 'dependentGloss': 'fractal'}, {'dep': 'nmod:to', 'governor': 2, 'governorGloss': 'regards', 'dependent': 5, 'dependentGloss': 'commpression'}, {'dep': 'punct', 'governor': 9, 'governorGloss': 'seen', 'dependent': 6, 'dependentGloss': ','}, {'dep': 'nsubj', 'governor': 9, 'governorGloss': 'seen', 'dependent': 7, 'dependentGloss': 'I'}, {'dep': 'aux', 'governor': 9, 'governorGloss': 'seen', 'dependent': 8, 'dependentGloss': 'have'}, {'dep': 'nummod', 'governor': 14, 'governorGloss': 'movies', 'dependent': 10, 'dependentGloss': '2'}, {'dep': 'amod', 'governor': 14, 'governorGloss': 'movies', 'dependent': 11, 'dependentGloss': 'fractal'}, {'dep': 'amod', 'governor': 14, 'governorGloss': 'movies', 'dependent': 12, 'dependentGloss': 'compressed'}, {'dep': 'punct', 'governor': 14, 'governorGloss': 'movies', 'dependent': 13, 'dependentGloss': '``'}, {'dep': 'dobj', 'governor': 9, 'governorGloss': 'seen', 'dependent': 14, 'dependentGloss': 'movies'}, {'dep': 'punct', 'governor': 9, 'governorGloss': 'seen', 'dependent': 15, 'dependentGloss': \"''\"}, {'dep': 'punct', 'governor': 9, 'governorGloss': 'seen', 'dependent': 16, 'dependentGloss': '.'}], 'tokens': [{'index': 1, 'word': 'In', 'originalText': 'In', 'characterOffsetBegin': 0, 'characterOffsetEnd': 2, 'pos': 'IN', 'before': '', 'after': ' '}, {'index': 2, 'word': 'regards', 'originalText': 'regards', 'characterOffsetBegin': 3, 'characterOffsetEnd': 10, 'pos': 'VBZ', 'before': ' ', 'after': ' '}, {'index': 3, 'word': 'to', 'originalText': 'to', 'characterOffsetBegin': 11, 'characterOffsetEnd': 13, 'pos': 'TO', 'before': ' ', 'after': ' '}, {'index': 4, 'word': 'fractal', 'originalText': 'fractal', 'characterOffsetBegin': 14, 'characterOffsetEnd': 21, 'pos': 'JJ', 'before': ' ', 'after': ' '}, {'index': 5, 'word': 'commpression', 'originalText': 'commpression', 'characterOffsetBegin': 22, 'characterOffsetEnd': 34, 'pos': 'NN', 'before': ' ', 'after': ''}, {'index': 6, 'word': ',', 'originalText': ',', 'characterOffsetBegin': 34, 'characterOffsetEnd': 35, 'pos': ',', 'before': '', 'after': ' '}, {'index': 7, 'word': 'I', 'originalText': 'I', 'characterOffsetBegin': 36, 'characterOffsetEnd': 37, 'pos': 'PRP', 'before': ' ', 'after': ' '}, {'index': 8, 'word': 'have', 'originalText': 'have', 'characterOffsetBegin': 38, 'characterOffsetEnd': 42, 'pos': 'VBP', 'before': ' ', 'after': ' '}, {'index': 9, 'word': 'seen', 'originalText': 'seen', 'characterOffsetBegin': 43, 'characterOffsetEnd': 47, 'pos': 'VBN', 'before': ' ', 'after': ' '}, {'index': 10, 'word': '2', 'originalText': '2', 'characterOffsetBegin': 48, 'characterOffsetEnd': 49, 'pos': 'CD', 'before': ' ', 'after': ' '}, {'index': 11, 'word': 'fractal', 'originalText': 'fractal', 'characterOffsetBegin': 50, 'characterOffsetEnd': 57, 'pos': 'JJ', 'before': ' ', 'after': ' '}, {'index': 12, 'word': 'compressed', 'originalText': 'compressed', 'characterOffsetBegin': 58, 'characterOffsetEnd': 68, 'pos': 'VBN', 'before': ' ', 'after': ' '}, {'index': 13, 'word': '``', 'originalText': '\"', 'characterOffsetBegin': 69, 'characterOffsetEnd': 70, 'pos': '``', 'before': ' ', 'after': ''}, {'index': 14, 'word': 'movies', 'originalText': 'movies', 'characterOffsetBegin': 70, 'characterOffsetEnd': 76, 'pos': 'NNS', 'before': '', 'after': ''}, {'index': 15, 'word': \"''\", 'originalText': '\"', 'characterOffsetBegin': 76, 'characterOffsetEnd': 77, 'pos': \"''\", 'before': '', 'after': ''}, {'index': 16, 'word': '.', 'originalText': '.', 'characterOffsetBegin': 77, 'characterOffsetEnd': 78, 'pos': '.', 'before': '', 'after': ''}]}]}, {'sentences': [{'index': 0, 'parse': '(ROOT\\n  (S\\n    (NP (PRP They))\\n    (VP (VBD were)\\n      (ADJP (DT both) (RB fairly) (JJ impressive)))\\n    (. .)))', 'basicDependencies': [{'dep': 'ROOT', 'governor': 0, 'governorGloss': 'ROOT', 'dependent': 5, 'dependentGloss': 'impressive'}, {'dep': 'nsubj', 'governor': 5, 'governorGloss': 'impressive', 'dependent': 1, 'dependentGloss': 'They'}, {'dep': 'cop', 'governor': 5, 'governorGloss': 'impressive', 'dependent': 2, 'dependentGloss': 'were'}, {'dep': 'dep', 'governor': 5, 'governorGloss': 'impressive', 'dependent': 3, 'dependentGloss': 'both'}, {'dep': 'advmod', 'governor': 5, 'governorGloss': 'impressive', 'dependent': 4, 'dependentGloss': 'fairly'}, {'dep': 'punct', 'governor': 5, 'governorGloss': 'impressive', 'dependent': 6, 'dependentGloss': '.'}], 'enhancedDependencies': [{'dep': 'ROOT', 'governor': 0, 'governorGloss': 'ROOT', 'dependent': 5, 'dependentGloss': 'impressive'}, {'dep': 'nsubj', 'governor': 5, 'governorGloss': 'impressive', 'dependent': 1, 'dependentGloss': 'They'}, {'dep': 'cop', 'governor': 5, 'governorGloss': 'impressive', 'dependent': 2, 'dependentGloss': 'were'}, {'dep': 'dep', 'governor': 5, 'governorGloss': 'impressive', 'dependent': 3, 'dependentGloss': 'both'}, {'dep': 'advmod', 'governor': 5, 'governorGloss': 'impressive', 'dependent': 4, 'dependentGloss': 'fairly'}, {'dep': 'punct', 'governor': 5, 'governorGloss': 'impressive', 'dependent': 6, 'dependentGloss': '.'}], 'enhancedPlusPlusDependencies': [{'dep': 'ROOT', 'governor': 0, 'governorGloss': 'ROOT', 'dependent': 5, 'dependentGloss': 'impressive'}, {'dep': 'nsubj', 'governor': 5, 'governorGloss': 'impressive', 'dependent': 1, 'dependentGloss': 'They'}, {'dep': 'cop', 'governor': 5, 'governorGloss': 'impressive', 'dependent': 2, 'dependentGloss': 'were'}, {'dep': 'dep', 'governor': 5, 'governorGloss': 'impressive', 'dependent': 3, 'dependentGloss': 'both'}, {'dep': 'advmod', 'governor': 5, 'governorGloss': 'impressive', 'dependent': 4, 'dependentGloss': 'fairly'}, {'dep': 'punct', 'governor': 5, 'governorGloss': 'impressive', 'dependent': 6, 'dependentGloss': '.'}], 'tokens': [{'index': 1, 'word': 'They', 'originalText': 'They', 'characterOffsetBegin': 0, 'characterOffsetEnd': 4, 'pos': 'PRP', 'before': '', 'after': ' '}, {'index': 2, 'word': 'were', 'originalText': 'were', 'characterOffsetBegin': 5, 'characterOffsetEnd': 9, 'pos': 'VBD', 'before': ' ', 'after': ' '}, {'index': 3, 'word': 'both', 'originalText': 'both', 'characterOffsetBegin': 10, 'characterOffsetEnd': 14, 'pos': 'DT', 'before': ' ', 'after': ' '}, {'index': 4, 'word': 'fairly', 'originalText': 'fairly', 'characterOffsetBegin': 15, 'characterOffsetEnd': 21, 'pos': 'RB', 'before': ' ', 'after': ' '}, {'index': 5, 'word': 'impressive', 'originalText': 'impressive', 'characterOffsetBegin': 22, 'characterOffsetEnd': 32, 'pos': 'JJ', 'before': ' ', 'after': ''}, {'index': 6, 'word': '.', 'originalText': '.', 'characterOffsetBegin': 32, 'characterOffsetEnd': 33, 'pos': '.', 'before': '', 'after': ''}]}]}, {'sentences': [{'index': 0, 'parse': \"(ROOT\\n  (S\\n    (S\\n      (NP (DT The) (JJ first) (NN one))\\n      (VP (VBD was)\\n        (NP (DT a) (CD 64)\\n          (NP\\n            (NP (JJ gray) (NN scale) (`` ``) (NN movie) ('' ''))\\n            (PP (IN of)\\n              (NP (NNP Casablanca)))))))\\n    (, ,)\\n    (NP (PRP it))\\n    (VP\\n      (VP (VBD was)\\n        (NP (CD 1.3) (NN MB)))\\n      (CC and)\\n      (VP (VBD had)\\n        (NP\\n          (NP (CD 11) (NNS minutes))\\n          (PP (IN of)\\n            (NP (CD 13) (NNS fps) (NN video))))))\\n    (. .)))\", 'basicDependencies': [{'dep': 'ROOT', 'governor': 0, 'governorGloss': 'ROOT', 'dependent': 10, 'dependentGloss': 'movie'}, {'dep': 'det', 'governor': 3, 'governorGloss': 'one', 'dependent': 1, 'dependentGloss': 'The'}, {'dep': 'amod', 'governor': 3, 'governorGloss': 'one', 'dependent': 2, 'dependentGloss': 'first'}, {'dep': 'nsubj', 'governor': 10, 'governorGloss': 'movie', 'dependent': 3, 'dependentGloss': 'one'}, {'dep': 'cop', 'governor': 10, 'governorGloss': 'movie', 'dependent': 4, 'dependentGloss': 'was'}, {'dep': 'det', 'governor': 10, 'governorGloss': 'movie', 'dependent': 5, 'dependentGloss': 'a'}, {'dep': 'nummod', 'governor': 10, 'governorGloss': 'movie', 'dependent': 6, 'dependentGloss': '64'}, {'dep': 'amod', 'governor': 10, 'governorGloss': 'movie', 'dependent': 7, 'dependentGloss': 'gray'}, {'dep': 'compound', 'governor': 10, 'governorGloss': 'movie', 'dependent': 8, 'dependentGloss': 'scale'}, {'dep': 'punct', 'governor': 10, 'governorGloss': 'movie', 'dependent': 9, 'dependentGloss': '``'}, {'dep': 'punct', 'governor': 10, 'governorGloss': 'movie', 'dependent': 11, 'dependentGloss': \"''\"}, {'dep': 'case', 'governor': 13, 'governorGloss': 'Casablanca', 'dependent': 12, 'dependentGloss': 'of'}, {'dep': 'nmod', 'governor': 10, 'governorGloss': 'movie', 'dependent': 13, 'dependentGloss': 'Casablanca'}, {'dep': 'punct', 'governor': 10, 'governorGloss': 'movie', 'dependent': 14, 'dependentGloss': ','}, {'dep': 'nsubj', 'governor': 18, 'governorGloss': 'MB', 'dependent': 15, 'dependentGloss': 'it'}, {'dep': 'cop', 'governor': 18, 'governorGloss': 'MB', 'dependent': 16, 'dependentGloss': 'was'}, {'dep': 'nummod', 'governor': 18, 'governorGloss': 'MB', 'dependent': 17, 'dependentGloss': '1.3'}, {'dep': 'acl:relcl', 'governor': 10, 'governorGloss': 'movie', 'dependent': 18, 'dependentGloss': 'MB'}, {'dep': 'cc', 'governor': 18, 'governorGloss': 'MB', 'dependent': 19, 'dependentGloss': 'and'}, {'dep': 'conj', 'governor': 18, 'governorGloss': 'MB', 'dependent': 20, 'dependentGloss': 'had'}, {'dep': 'nummod', 'governor': 22, 'governorGloss': 'minutes', 'dependent': 21, 'dependentGloss': '11'}, {'dep': 'dobj', 'governor': 20, 'governorGloss': 'had', 'dependent': 22, 'dependentGloss': 'minutes'}, {'dep': 'case', 'governor': 26, 'governorGloss': 'video', 'dependent': 23, 'dependentGloss': 'of'}, {'dep': 'nummod', 'governor': 26, 'governorGloss': 'video', 'dependent': 24, 'dependentGloss': '13'}, {'dep': 'compound', 'governor': 26, 'governorGloss': 'video', 'dependent': 25, 'dependentGloss': 'fps'}, {'dep': 'nmod', 'governor': 22, 'governorGloss': 'minutes', 'dependent': 26, 'dependentGloss': 'video'}, {'dep': 'punct', 'governor': 10, 'governorGloss': 'movie', 'dependent': 27, 'dependentGloss': '.'}], 'enhancedDependencies': [{'dep': 'ROOT', 'governor': 0, 'governorGloss': 'ROOT', 'dependent': 10, 'dependentGloss': 'movie'}, {'dep': 'det', 'governor': 3, 'governorGloss': 'one', 'dependent': 1, 'dependentGloss': 'The'}, {'dep': 'amod', 'governor': 3, 'governorGloss': 'one', 'dependent': 2, 'dependentGloss': 'first'}, {'dep': 'nsubj', 'governor': 10, 'governorGloss': 'movie', 'dependent': 3, 'dependentGloss': 'one'}, {'dep': 'cop', 'governor': 10, 'governorGloss': 'movie', 'dependent': 4, 'dependentGloss': 'was'}, {'dep': 'det', 'governor': 10, 'governorGloss': 'movie', 'dependent': 5, 'dependentGloss': 'a'}, {'dep': 'nummod', 'governor': 10, 'governorGloss': 'movie', 'dependent': 6, 'dependentGloss': '64'}, {'dep': 'amod', 'governor': 10, 'governorGloss': 'movie', 'dependent': 7, 'dependentGloss': 'gray'}, {'dep': 'compound', 'governor': 10, 'governorGloss': 'movie', 'dependent': 8, 'dependentGloss': 'scale'}, {'dep': 'punct', 'governor': 10, 'governorGloss': 'movie', 'dependent': 9, 'dependentGloss': '``'}, {'dep': 'punct', 'governor': 10, 'governorGloss': 'movie', 'dependent': 11, 'dependentGloss': \"''\"}, {'dep': 'case', 'governor': 13, 'governorGloss': 'Casablanca', 'dependent': 12, 'dependentGloss': 'of'}, {'dep': 'nmod:of', 'governor': 10, 'governorGloss': 'movie', 'dependent': 13, 'dependentGloss': 'Casablanca'}, {'dep': 'punct', 'governor': 10, 'governorGloss': 'movie', 'dependent': 14, 'dependentGloss': ','}, {'dep': 'nsubj', 'governor': 18, 'governorGloss': 'MB', 'dependent': 15, 'dependentGloss': 'it'}, {'dep': 'nsubj', 'governor': 20, 'governorGloss': 'had', 'dependent': 15, 'dependentGloss': 'it'}, {'dep': 'cop', 'governor': 18, 'governorGloss': 'MB', 'dependent': 16, 'dependentGloss': 'was'}, {'dep': 'nummod', 'governor': 18, 'governorGloss': 'MB', 'dependent': 17, 'dependentGloss': '1.3'}, {'dep': 'acl:relcl', 'governor': 10, 'governorGloss': 'movie', 'dependent': 18, 'dependentGloss': 'MB'}, {'dep': 'cc', 'governor': 18, 'governorGloss': 'MB', 'dependent': 19, 'dependentGloss': 'and'}, {'dep': 'acl:relcl', 'governor': 10, 'governorGloss': 'movie', 'dependent': 20, 'dependentGloss': 'had'}, {'dep': 'conj:and', 'governor': 18, 'governorGloss': 'MB', 'dependent': 20, 'dependentGloss': 'had'}, {'dep': 'nummod', 'governor': 22, 'governorGloss': 'minutes', 'dependent': 21, 'dependentGloss': '11'}, {'dep': 'dobj', 'governor': 20, 'governorGloss': 'had', 'dependent': 22, 'dependentGloss': 'minutes'}, {'dep': 'case', 'governor': 26, 'governorGloss': 'video', 'dependent': 23, 'dependentGloss': 'of'}, {'dep': 'nummod', 'governor': 26, 'governorGloss': 'video', 'dependent': 24, 'dependentGloss': '13'}, {'dep': 'compound', 'governor': 26, 'governorGloss': 'video', 'dependent': 25, 'dependentGloss': 'fps'}, {'dep': 'nmod:of', 'governor': 22, 'governorGloss': 'minutes', 'dependent': 26, 'dependentGloss': 'video'}, {'dep': 'punct', 'governor': 10, 'governorGloss': 'movie', 'dependent': 27, 'dependentGloss': '.'}], 'enhancedPlusPlusDependencies': [{'dep': 'ROOT', 'governor': 0, 'governorGloss': 'ROOT', 'dependent': 10, 'dependentGloss': 'movie'}, {'dep': 'det', 'governor': 3, 'governorGloss': 'one', 'dependent': 1, 'dependentGloss': 'The'}, {'dep': 'amod', 'governor': 3, 'governorGloss': 'one', 'dependent': 2, 'dependentGloss': 'first'}, {'dep': 'nsubj', 'governor': 10, 'governorGloss': 'movie', 'dependent': 3, 'dependentGloss': 'one'}, {'dep': 'cop', 'governor': 10, 'governorGloss': 'movie', 'dependent': 4, 'dependentGloss': 'was'}, {'dep': 'det', 'governor': 10, 'governorGloss': 'movie', 'dependent': 5, 'dependentGloss': 'a'}, {'dep': 'nummod', 'governor': 10, 'governorGloss': 'movie', 'dependent': 6, 'dependentGloss': '64'}, {'dep': 'amod', 'governor': 10, 'governorGloss': 'movie', 'dependent': 7, 'dependentGloss': 'gray'}, {'dep': 'compound', 'governor': 10, 'governorGloss': 'movie', 'dependent': 8, 'dependentGloss': 'scale'}, {'dep': 'punct', 'governor': 10, 'governorGloss': 'movie', 'dependent': 9, 'dependentGloss': '``'}, {'dep': 'punct', 'governor': 10, 'governorGloss': 'movie', 'dependent': 11, 'dependentGloss': \"''\"}, {'dep': 'case', 'governor': 13, 'governorGloss': 'Casablanca', 'dependent': 12, 'dependentGloss': 'of'}, {'dep': 'nmod:of', 'governor': 10, 'governorGloss': 'movie', 'dependent': 13, 'dependentGloss': 'Casablanca'}, {'dep': 'punct', 'governor': 10, 'governorGloss': 'movie', 'dependent': 14, 'dependentGloss': ','}, {'dep': 'nsubj', 'governor': 18, 'governorGloss': 'MB', 'dependent': 15, 'dependentGloss': 'it'}, {'dep': 'nsubj', 'governor': 20, 'governorGloss': 'had', 'dependent': 15, 'dependentGloss': 'it'}, {'dep': 'cop', 'governor': 18, 'governorGloss': 'MB', 'dependent': 16, 'dependentGloss': 'was'}, {'dep': 'nummod', 'governor': 18, 'governorGloss': 'MB', 'dependent': 17, 'dependentGloss': '1.3'}, {'dep': 'acl:relcl', 'governor': 10, 'governorGloss': 'movie', 'dependent': 18, 'dependentGloss': 'MB'}, {'dep': 'cc', 'governor': 18, 'governorGloss': 'MB', 'dependent': 19, 'dependentGloss': 'and'}, {'dep': 'acl:relcl', 'governor': 10, 'governorGloss': 'movie', 'dependent': 20, 'dependentGloss': 'had'}, {'dep': 'conj:and', 'governor': 18, 'governorGloss': 'MB', 'dependent': 20, 'dependentGloss': 'had'}, {'dep': 'nummod', 'governor': 22, 'governorGloss': 'minutes', 'dependent': 21, 'dependentGloss': '11'}, {'dep': 'dobj', 'governor': 20, 'governorGloss': 'had', 'dependent': 22, 'dependentGloss': 'minutes'}, {'dep': 'case', 'governor': 26, 'governorGloss': 'video', 'dependent': 23, 'dependentGloss': 'of'}, {'dep': 'nummod', 'governor': 26, 'governorGloss': 'video', 'dependent': 24, 'dependentGloss': '13'}, {'dep': 'compound', 'governor': 26, 'governorGloss': 'video', 'dependent': 25, 'dependentGloss': 'fps'}, {'dep': 'nmod:of', 'governor': 22, 'governorGloss': 'minutes', 'dependent': 26, 'dependentGloss': 'video'}, {'dep': 'punct', 'governor': 10, 'governorGloss': 'movie', 'dependent': 27, 'dependentGloss': '.'}], 'tokens': [{'index': 1, 'word': 'The', 'originalText': 'The', 'characterOffsetBegin': 0, 'characterOffsetEnd': 3, 'pos': 'DT', 'before': '', 'after': ' '}, {'index': 2, 'word': 'first', 'originalText': 'first', 'characterOffsetBegin': 4, 'characterOffsetEnd': 9, 'pos': 'JJ', 'before': ' ', 'after': ' '}, {'index': 3, 'word': 'one', 'originalText': 'one', 'characterOffsetBegin': 10, 'characterOffsetEnd': 13, 'pos': 'NN', 'before': ' ', 'after': ' '}, {'index': 4, 'word': 'was', 'originalText': 'was', 'characterOffsetBegin': 14, 'characterOffsetEnd': 17, 'pos': 'VBD', 'before': ' ', 'after': ' '}, {'index': 5, 'word': 'a', 'originalText': 'a', 'characterOffsetBegin': 18, 'characterOffsetEnd': 19, 'pos': 'DT', 'before': ' ', 'after': ' '}, {'index': 6, 'word': '64', 'originalText': '64', 'characterOffsetBegin': 20, 'characterOffsetEnd': 22, 'pos': 'CD', 'before': ' ', 'after': ' '}, {'index': 7, 'word': 'gray', 'originalText': 'gray', 'characterOffsetBegin': 23, 'characterOffsetEnd': 27, 'pos': 'JJ', 'before': ' ', 'after': ' '}, {'index': 8, 'word': 'scale', 'originalText': 'scale', 'characterOffsetBegin': 28, 'characterOffsetEnd': 33, 'pos': 'NN', 'before': ' ', 'after': ' '}, {'index': 9, 'word': '``', 'originalText': '\"', 'characterOffsetBegin': 34, 'characterOffsetEnd': 35, 'pos': '``', 'before': ' ', 'after': ''}, {'index': 10, 'word': 'movie', 'originalText': 'movie', 'characterOffsetBegin': 35, 'characterOffsetEnd': 40, 'pos': 'NN', 'before': '', 'after': ''}, {'index': 11, 'word': \"''\", 'originalText': '\"', 'characterOffsetBegin': 40, 'characterOffsetEnd': 41, 'pos': \"''\", 'before': '', 'after': ' '}, {'index': 12, 'word': 'of', 'originalText': 'of', 'characterOffsetBegin': 42, 'characterOffsetEnd': 44, 'pos': 'IN', 'before': ' ', 'after': ' '}, {'index': 13, 'word': 'Casablanca', 'originalText': 'Casablanca', 'characterOffsetBegin': 45, 'characterOffsetEnd': 55, 'pos': 'NNP', 'before': ' ', 'after': ''}, {'index': 14, 'word': ',', 'originalText': ',', 'characterOffsetBegin': 55, 'characterOffsetEnd': 56, 'pos': ',', 'before': '', 'after': ' '}, {'index': 15, 'word': 'it', 'originalText': 'it', 'characterOffsetBegin': 57, 'characterOffsetEnd': 59, 'pos': 'PRP', 'before': ' ', 'after': ' '}, {'index': 16, 'word': 'was', 'originalText': 'was', 'characterOffsetBegin': 60, 'characterOffsetEnd': 63, 'pos': 'VBD', 'before': ' ', 'after': ' '}, {'index': 17, 'word': '1.3', 'originalText': '1.3', 'characterOffsetBegin': 64, 'characterOffsetEnd': 67, 'pos': 'CD', 'before': ' ', 'after': ''}, {'index': 18, 'word': 'MB', 'originalText': 'MB', 'characterOffsetBegin': 67, 'characterOffsetEnd': 69, 'pos': 'NN', 'before': '', 'after': ' '}, {'index': 19, 'word': 'and', 'originalText': 'and', 'characterOffsetBegin': 70, 'characterOffsetEnd': 73, 'pos': 'CC', 'before': ' ', 'after': ' '}, {'index': 20, 'word': 'had', 'originalText': 'had', 'characterOffsetBegin': 74, 'characterOffsetEnd': 77, 'pos': 'VBD', 'before': ' ', 'after': ' '}, {'index': 21, 'word': '11', 'originalText': '11', 'characterOffsetBegin': 78, 'characterOffsetEnd': 80, 'pos': 'CD', 'before': ' ', 'after': ' '}, {'index': 22, 'word': 'minutes', 'originalText': 'minutes', 'characterOffsetBegin': 81, 'characterOffsetEnd': 88, 'pos': 'NNS', 'before': ' ', 'after': ' '}, {'index': 23, 'word': 'of', 'originalText': 'of', 'characterOffsetBegin': 89, 'characterOffsetEnd': 91, 'pos': 'IN', 'before': ' ', 'after': ' '}, {'index': 24, 'word': '13', 'originalText': '13', 'characterOffsetBegin': 92, 'characterOffsetEnd': 94, 'pos': 'CD', 'before': ' ', 'after': ' '}, {'index': 25, 'word': 'fps', 'originalText': 'fps', 'characterOffsetBegin': 95, 'characterOffsetEnd': 98, 'pos': 'NNS', 'before': ' ', 'after': ' '}, {'index': 26, 'word': 'video', 'originalText': 'video', 'characterOffsetBegin': 99, 'characterOffsetEnd': 104, 'pos': 'NN', 'before': ' ', 'after': ''}, {'index': 27, 'word': '.', 'originalText': '.', 'characterOffsetBegin': 104, 'characterOffsetEnd': 105, 'pos': '.', 'before': '', 'after': ''}]}]}, {'sentences': [{'index': 0, 'parse': '(ROOT\\n  (S\\n    (NP (PRP It))\\n    (VP (VBD was)\\n      (ADJP\\n        (ADJP\\n          (NP (DT a) (JJ little))\\n          (JJ grainy))\\n        (CC but)\\n        (ADJP (RB not) (JJ bad))\\n        (ADVP (IN at) (DT all))))\\n    (. .)))', 'basicDependencies': [{'dep': 'ROOT', 'governor': 0, 'governorGloss': 'ROOT', 'dependent': 5, 'dependentGloss': 'grainy'}, {'dep': 'nsubj', 'governor': 5, 'governorGloss': 'grainy', 'dependent': 1, 'dependentGloss': 'It'}, {'dep': 'cop', 'governor': 5, 'governorGloss': 'grainy', 'dependent': 2, 'dependentGloss': 'was'}, {'dep': 'det', 'governor': 5, 'governorGloss': 'grainy', 'dependent': 3, 'dependentGloss': 'a'}, {'dep': 'amod', 'governor': 5, 'governorGloss': 'grainy', 'dependent': 4, 'dependentGloss': 'little'}, {'dep': 'cc', 'governor': 5, 'governorGloss': 'grainy', 'dependent': 6, 'dependentGloss': 'but'}, {'dep': 'neg', 'governor': 8, 'governorGloss': 'bad', 'dependent': 7, 'dependentGloss': 'not'}, {'dep': 'conj', 'governor': 5, 'governorGloss': 'grainy', 'dependent': 8, 'dependentGloss': 'bad'}, {'dep': 'case', 'governor': 10, 'governorGloss': 'all', 'dependent': 9, 'dependentGloss': 'at'}, {'dep': 'nmod', 'governor': 5, 'governorGloss': 'grainy', 'dependent': 10, 'dependentGloss': 'all'}, {'dep': 'punct', 'governor': 5, 'governorGloss': 'grainy', 'dependent': 11, 'dependentGloss': '.'}], 'enhancedDependencies': [{'dep': 'ROOT', 'governor': 0, 'governorGloss': 'ROOT', 'dependent': 5, 'dependentGloss': 'grainy'}, {'dep': 'nsubj', 'governor': 5, 'governorGloss': 'grainy', 'dependent': 1, 'dependentGloss': 'It'}, {'dep': 'nsubj', 'governor': 8, 'governorGloss': 'bad', 'dependent': 1, 'dependentGloss': 'It'}, {'dep': 'cop', 'governor': 5, 'governorGloss': 'grainy', 'dependent': 2, 'dependentGloss': 'was'}, {'dep': 'det', 'governor': 5, 'governorGloss': 'grainy', 'dependent': 3, 'dependentGloss': 'a'}, {'dep': 'amod', 'governor': 5, 'governorGloss': 'grainy', 'dependent': 4, 'dependentGloss': 'little'}, {'dep': 'cc', 'governor': 5, 'governorGloss': 'grainy', 'dependent': 6, 'dependentGloss': 'but'}, {'dep': 'neg', 'governor': 8, 'governorGloss': 'bad', 'dependent': 7, 'dependentGloss': 'not'}, {'dep': 'conj:but', 'governor': 5, 'governorGloss': 'grainy', 'dependent': 8, 'dependentGloss': 'bad'}, {'dep': 'case', 'governor': 10, 'governorGloss': 'all', 'dependent': 9, 'dependentGloss': 'at'}, {'dep': 'nmod:at', 'governor': 5, 'governorGloss': 'grainy', 'dependent': 10, 'dependentGloss': 'all'}, {'dep': 'punct', 'governor': 5, 'governorGloss': 'grainy', 'dependent': 11, 'dependentGloss': '.'}], 'enhancedPlusPlusDependencies': [{'dep': 'ROOT', 'governor': 0, 'governorGloss': 'ROOT', 'dependent': 5, 'dependentGloss': 'grainy'}, {'dep': 'nsubj', 'governor': 5, 'governorGloss': 'grainy', 'dependent': 1, 'dependentGloss': 'It'}, {'dep': 'nsubj', 'governor': 8, 'governorGloss': 'bad', 'dependent': 1, 'dependentGloss': 'It'}, {'dep': 'cop', 'governor': 5, 'governorGloss': 'grainy', 'dependent': 2, 'dependentGloss': 'was'}, {'dep': 'det', 'governor': 5, 'governorGloss': 'grainy', 'dependent': 3, 'dependentGloss': 'a'}, {'dep': 'amod', 'governor': 5, 'governorGloss': 'grainy', 'dependent': 4, 'dependentGloss': 'little'}, {'dep': 'cc', 'governor': 5, 'governorGloss': 'grainy', 'dependent': 6, 'dependentGloss': 'but'}, {'dep': 'neg', 'governor': 8, 'governorGloss': 'bad', 'dependent': 7, 'dependentGloss': 'not'}, {'dep': 'conj:but', 'governor': 5, 'governorGloss': 'grainy', 'dependent': 8, 'dependentGloss': 'bad'}, {'dep': 'case', 'governor': 10, 'governorGloss': 'all', 'dependent': 9, 'dependentGloss': 'at'}, {'dep': 'nmod:at', 'governor': 5, 'governorGloss': 'grainy', 'dependent': 10, 'dependentGloss': 'all'}, {'dep': 'punct', 'governor': 5, 'governorGloss': 'grainy', 'dependent': 11, 'dependentGloss': '.'}], 'tokens': [{'index': 1, 'word': 'It', 'originalText': 'It', 'characterOffsetBegin': 0, 'characterOffsetEnd': 2, 'pos': 'PRP', 'before': '', 'after': ' '}, {'index': 2, 'word': 'was', 'originalText': 'was', 'characterOffsetBegin': 3, 'characterOffsetEnd': 6, 'pos': 'VBD', 'before': ' ', 'after': ' '}, {'index': 3, 'word': 'a', 'originalText': 'a', 'characterOffsetBegin': 7, 'characterOffsetEnd': 8, 'pos': 'DT', 'before': ' ', 'after': ' '}, {'index': 4, 'word': 'little', 'originalText': 'little', 'characterOffsetBegin': 9, 'characterOffsetEnd': 15, 'pos': 'JJ', 'before': ' ', 'after': ' '}, {'index': 5, 'word': 'grainy', 'originalText': 'grainy', 'characterOffsetBegin': 16, 'characterOffsetEnd': 22, 'pos': 'JJ', 'before': ' ', 'after': ' '}, {'index': 6, 'word': 'but', 'originalText': 'but', 'characterOffsetBegin': 23, 'characterOffsetEnd': 26, 'pos': 'CC', 'before': ' ', 'after': ' '}, {'index': 7, 'word': 'not', 'originalText': 'not', 'characterOffsetBegin': 27, 'characterOffsetEnd': 30, 'pos': 'RB', 'before': ' ', 'after': ' '}, {'index': 8, 'word': 'bad', 'originalText': 'bad', 'characterOffsetBegin': 31, 'characterOffsetEnd': 34, 'pos': 'JJ', 'before': ' ', 'after': ' '}, {'index': 9, 'word': 'at', 'originalText': 'at', 'characterOffsetBegin': 35, 'characterOffsetEnd': 37, 'pos': 'IN', 'before': ' ', 'after': ' '}, {'index': 10, 'word': 'all', 'originalText': 'all', 'characterOffsetBegin': 38, 'characterOffsetEnd': 41, 'pos': 'DT', 'before': ' ', 'after': ''}, {'index': 11, 'word': '.', 'originalText': '.', 'characterOffsetBegin': 41, 'characterOffsetEnd': 42, 'pos': '.', 'before': '', 'after': ''}]}]}, {'sentences': [{'index': 0, 'parse': '(ROOT\\n  (S\\n    (S\\n      (NP\\n        (NP (DT The) (JJ second) (CD one))\\n        (SBAR\\n          (S\\n            (NP (PRP I))\\n            (VP (VBD saw)))))\\n      (VP (VBD was)\\n        (NP\\n          (QP (RB only) (CD 3))\\n          (NNS minutes))))\\n    (CC but)\\n    (S\\n      (NP (PRP it))\\n      (VP\\n        (VP (VBD had)\\n          (NP\\n            (NP (CD 8) (NN bit) (NN color))\\n            (PP (IN with)\\n              (NP (CD 10) (NNS fps)))))\\n        (CC and)\\n        (VP (VBN measured)\\n          (PP (IN in)\\n            (NP\\n              (QP (IN at) (CD 1.2))\\n              (NN MB))))))\\n    (. .)))', 'basicDependencies': [{'dep': 'ROOT', 'governor': 0, 'governorGloss': 'ROOT', 'dependent': 9, 'dependentGloss': 'minutes'}, {'dep': 'det', 'governor': 3, 'governorGloss': 'one', 'dependent': 1, 'dependentGloss': 'The'}, {'dep': 'amod', 'governor': 3, 'governorGloss': 'one', 'dependent': 2, 'dependentGloss': 'second'}, {'dep': 'nsubj', 'governor': 9, 'governorGloss': 'minutes', 'dependent': 3, 'dependentGloss': 'one'}, {'dep': 'nsubj', 'governor': 5, 'governorGloss': 'saw', 'dependent': 4, 'dependentGloss': 'I'}, {'dep': 'acl:relcl', 'governor': 3, 'governorGloss': 'one', 'dependent': 5, 'dependentGloss': 'saw'}, {'dep': 'cop', 'governor': 9, 'governorGloss': 'minutes', 'dependent': 6, 'dependentGloss': 'was'}, {'dep': 'advmod', 'governor': 8, 'governorGloss': '3', 'dependent': 7, 'dependentGloss': 'only'}, {'dep': 'nummod', 'governor': 9, 'governorGloss': 'minutes', 'dependent': 8, 'dependentGloss': '3'}, {'dep': 'cc', 'governor': 9, 'governorGloss': 'minutes', 'dependent': 10, 'dependentGloss': 'but'}, {'dep': 'nsubj', 'governor': 12, 'governorGloss': 'had', 'dependent': 11, 'dependentGloss': 'it'}, {'dep': 'conj', 'governor': 9, 'governorGloss': 'minutes', 'dependent': 12, 'dependentGloss': 'had'}, {'dep': 'nummod', 'governor': 15, 'governorGloss': 'color', 'dependent': 13, 'dependentGloss': '8'}, {'dep': 'compound', 'governor': 15, 'governorGloss': 'color', 'dependent': 14, 'dependentGloss': 'bit'}, {'dep': 'dobj', 'governor': 12, 'governorGloss': 'had', 'dependent': 15, 'dependentGloss': 'color'}, {'dep': 'case', 'governor': 18, 'governorGloss': 'fps', 'dependent': 16, 'dependentGloss': 'with'}, {'dep': 'nummod', 'governor': 18, 'governorGloss': 'fps', 'dependent': 17, 'dependentGloss': '10'}, {'dep': 'nmod', 'governor': 15, 'governorGloss': 'color', 'dependent': 18, 'dependentGloss': 'fps'}, {'dep': 'cc', 'governor': 12, 'governorGloss': 'had', 'dependent': 19, 'dependentGloss': 'and'}, {'dep': 'conj', 'governor': 12, 'governorGloss': 'had', 'dependent': 20, 'dependentGloss': 'measured'}, {'dep': 'case', 'governor': 24, 'governorGloss': 'MB', 'dependent': 21, 'dependentGloss': 'in'}, {'dep': 'case', 'governor': 24, 'governorGloss': 'MB', 'dependent': 22, 'dependentGloss': 'at'}, {'dep': 'nummod', 'governor': 24, 'governorGloss': 'MB', 'dependent': 23, 'dependentGloss': '1.2'}, {'dep': 'nmod', 'governor': 20, 'governorGloss': 'measured', 'dependent': 24, 'dependentGloss': 'MB'}, {'dep': 'punct', 'governor': 9, 'governorGloss': 'minutes', 'dependent': 25, 'dependentGloss': '.'}], 'enhancedDependencies': [{'dep': 'ROOT', 'governor': 0, 'governorGloss': 'ROOT', 'dependent': 9, 'dependentGloss': 'minutes'}, {'dep': 'det', 'governor': 3, 'governorGloss': 'one', 'dependent': 1, 'dependentGloss': 'The'}, {'dep': 'amod', 'governor': 3, 'governorGloss': 'one', 'dependent': 2, 'dependentGloss': 'second'}, {'dep': 'nsubj', 'governor': 9, 'governorGloss': 'minutes', 'dependent': 3, 'dependentGloss': 'one'}, {'dep': 'nsubj', 'governor': 5, 'governorGloss': 'saw', 'dependent': 4, 'dependentGloss': 'I'}, {'dep': 'acl:relcl', 'governor': 3, 'governorGloss': 'one', 'dependent': 5, 'dependentGloss': 'saw'}, {'dep': 'cop', 'governor': 9, 'governorGloss': 'minutes', 'dependent': 6, 'dependentGloss': 'was'}, {'dep': 'advmod', 'governor': 8, 'governorGloss': '3', 'dependent': 7, 'dependentGloss': 'only'}, {'dep': 'nummod', 'governor': 9, 'governorGloss': 'minutes', 'dependent': 8, 'dependentGloss': '3'}, {'dep': 'cc', 'governor': 9, 'governorGloss': 'minutes', 'dependent': 10, 'dependentGloss': 'but'}, {'dep': 'nsubj', 'governor': 12, 'governorGloss': 'had', 'dependent': 11, 'dependentGloss': 'it'}, {'dep': 'nsubj', 'governor': 20, 'governorGloss': 'measured', 'dependent': 11, 'dependentGloss': 'it'}, {'dep': 'conj:but', 'governor': 9, 'governorGloss': 'minutes', 'dependent': 12, 'dependentGloss': 'had'}, {'dep': 'nummod', 'governor': 15, 'governorGloss': 'color', 'dependent': 13, 'dependentGloss': '8'}, {'dep': 'compound', 'governor': 15, 'governorGloss': 'color', 'dependent': 14, 'dependentGloss': 'bit'}, {'dep': 'dobj', 'governor': 12, 'governorGloss': 'had', 'dependent': 15, 'dependentGloss': 'color'}, {'dep': 'case', 'governor': 18, 'governorGloss': 'fps', 'dependent': 16, 'dependentGloss': 'with'}, {'dep': 'nummod', 'governor': 18, 'governorGloss': 'fps', 'dependent': 17, 'dependentGloss': '10'}, {'dep': 'nmod:with', 'governor': 15, 'governorGloss': 'color', 'dependent': 18, 'dependentGloss': 'fps'}, {'dep': 'cc', 'governor': 12, 'governorGloss': 'had', 'dependent': 19, 'dependentGloss': 'and'}, {'dep': 'conj:but', 'governor': 9, 'governorGloss': 'minutes', 'dependent': 20, 'dependentGloss': 'measured'}, {'dep': 'conj:and', 'governor': 12, 'governorGloss': 'had', 'dependent': 20, 'dependentGloss': 'measured'}, {'dep': 'case', 'governor': 24, 'governorGloss': 'MB', 'dependent': 21, 'dependentGloss': 'in'}, {'dep': 'case', 'governor': 24, 'governorGloss': 'MB', 'dependent': 22, 'dependentGloss': 'at'}, {'dep': 'nummod', 'governor': 24, 'governorGloss': 'MB', 'dependent': 23, 'dependentGloss': '1.2'}, {'dep': 'nmod:at', 'governor': 20, 'governorGloss': 'measured', 'dependent': 24, 'dependentGloss': 'MB'}, {'dep': 'punct', 'governor': 9, 'governorGloss': 'minutes', 'dependent': 25, 'dependentGloss': '.'}], 'enhancedPlusPlusDependencies': [{'dep': 'ROOT', 'governor': 0, 'governorGloss': 'ROOT', 'dependent': 9, 'dependentGloss': 'minutes'}, {'dep': 'det', 'governor': 3, 'governorGloss': 'one', 'dependent': 1, 'dependentGloss': 'The'}, {'dep': 'amod', 'governor': 3, 'governorGloss': 'one', 'dependent': 2, 'dependentGloss': 'second'}, {'dep': 'nsubj', 'governor': 9, 'governorGloss': 'minutes', 'dependent': 3, 'dependentGloss': 'one'}, {'dep': 'nsubj', 'governor': 5, 'governorGloss': 'saw', 'dependent': 4, 'dependentGloss': 'I'}, {'dep': 'acl:relcl', 'governor': 3, 'governorGloss': 'one', 'dependent': 5, 'dependentGloss': 'saw'}, {'dep': 'cop', 'governor': 9, 'governorGloss': 'minutes', 'dependent': 6, 'dependentGloss': 'was'}, {'dep': 'advmod', 'governor': 8, 'governorGloss': '3', 'dependent': 7, 'dependentGloss': 'only'}, {'dep': 'nummod', 'governor': 9, 'governorGloss': 'minutes', 'dependent': 8, 'dependentGloss': '3'}, {'dep': 'cc', 'governor': 9, 'governorGloss': 'minutes', 'dependent': 10, 'dependentGloss': 'but'}, {'dep': 'nsubj', 'governor': 12, 'governorGloss': 'had', 'dependent': 11, 'dependentGloss': 'it'}, {'dep': 'nsubj', 'governor': 20, 'governorGloss': 'measured', 'dependent': 11, 'dependentGloss': 'it'}, {'dep': 'conj:but', 'governor': 9, 'governorGloss': 'minutes', 'dependent': 12, 'dependentGloss': 'had'}, {'dep': 'nummod', 'governor': 15, 'governorGloss': 'color', 'dependent': 13, 'dependentGloss': '8'}, {'dep': 'compound', 'governor': 15, 'governorGloss': 'color', 'dependent': 14, 'dependentGloss': 'bit'}, {'dep': 'dobj', 'governor': 12, 'governorGloss': 'had', 'dependent': 15, 'dependentGloss': 'color'}, {'dep': 'case', 'governor': 18, 'governorGloss': 'fps', 'dependent': 16, 'dependentGloss': 'with'}, {'dep': 'nummod', 'governor': 18, 'governorGloss': 'fps', 'dependent': 17, 'dependentGloss': '10'}, {'dep': 'nmod:with', 'governor': 15, 'governorGloss': 'color', 'dependent': 18, 'dependentGloss': 'fps'}, {'dep': 'cc', 'governor': 12, 'governorGloss': 'had', 'dependent': 19, 'dependentGloss': 'and'}, {'dep': 'conj:but', 'governor': 9, 'governorGloss': 'minutes', 'dependent': 20, 'dependentGloss': 'measured'}, {'dep': 'conj:and', 'governor': 12, 'governorGloss': 'had', 'dependent': 20, 'dependentGloss': 'measured'}, {'dep': 'case', 'governor': 24, 'governorGloss': 'MB', 'dependent': 21, 'dependentGloss': 'in'}, {'dep': 'case', 'governor': 24, 'governorGloss': 'MB', 'dependent': 22, 'dependentGloss': 'at'}, {'dep': 'nummod', 'governor': 24, 'governorGloss': 'MB', 'dependent': 23, 'dependentGloss': '1.2'}, {'dep': 'nmod:at', 'governor': 20, 'governorGloss': 'measured', 'dependent': 24, 'dependentGloss': 'MB'}, {'dep': 'punct', 'governor': 9, 'governorGloss': 'minutes', 'dependent': 25, 'dependentGloss': '.'}], 'tokens': [{'index': 1, 'word': 'The', 'originalText': 'The', 'characterOffsetBegin': 0, 'characterOffsetEnd': 3, 'pos': 'DT', 'before': '', 'after': ' '}, {'index': 2, 'word': 'second', 'originalText': 'second', 'characterOffsetBegin': 4, 'characterOffsetEnd': 10, 'pos': 'JJ', 'before': ' ', 'after': ' '}, {'index': 3, 'word': 'one', 'originalText': 'one', 'characterOffsetBegin': 11, 'characterOffsetEnd': 14, 'pos': 'CD', 'before': ' ', 'after': ' '}, {'index': 4, 'word': 'I', 'originalText': 'I', 'characterOffsetBegin': 15, 'characterOffsetEnd': 16, 'pos': 'PRP', 'before': ' ', 'after': ' '}, {'index': 5, 'word': 'saw', 'originalText': 'saw', 'characterOffsetBegin': 17, 'characterOffsetEnd': 20, 'pos': 'VBD', 'before': ' ', 'after': ' '}, {'index': 6, 'word': 'was', 'originalText': 'was', 'characterOffsetBegin': 21, 'characterOffsetEnd': 24, 'pos': 'VBD', 'before': ' ', 'after': ' '}, {'index': 7, 'word': 'only', 'originalText': 'only', 'characterOffsetBegin': 25, 'characterOffsetEnd': 29, 'pos': 'RB', 'before': ' ', 'after': ' '}, {'index': 8, 'word': '3', 'originalText': '3', 'characterOffsetBegin': 30, 'characterOffsetEnd': 31, 'pos': 'CD', 'before': ' ', 'after': ' '}, {'index': 9, 'word': 'minutes', 'originalText': 'minutes', 'characterOffsetBegin': 32, 'characterOffsetEnd': 39, 'pos': 'NNS', 'before': ' ', 'after': ' '}, {'index': 10, 'word': 'but', 'originalText': 'but', 'characterOffsetBegin': 40, 'characterOffsetEnd': 43, 'pos': 'CC', 'before': ' ', 'after': ' '}, {'index': 11, 'word': 'it', 'originalText': 'it', 'characterOffsetBegin': 44, 'characterOffsetEnd': 46, 'pos': 'PRP', 'before': ' ', 'after': ' '}, {'index': 12, 'word': 'had', 'originalText': 'had', 'characterOffsetBegin': 47, 'characterOffsetEnd': 50, 'pos': 'VBD', 'before': ' ', 'after': ' '}, {'index': 13, 'word': '8', 'originalText': '8', 'characterOffsetBegin': 51, 'characterOffsetEnd': 52, 'pos': 'CD', 'before': ' ', 'after': ' '}, {'index': 14, 'word': 'bit', 'originalText': 'bit', 'characterOffsetBegin': 53, 'characterOffsetEnd': 56, 'pos': 'NN', 'before': ' ', 'after': ' '}, {'index': 15, 'word': 'color', 'originalText': 'color', 'characterOffsetBegin': 57, 'characterOffsetEnd': 62, 'pos': 'NN', 'before': ' ', 'after': ' '}, {'index': 16, 'word': 'with', 'originalText': 'with', 'characterOffsetBegin': 63, 'characterOffsetEnd': 67, 'pos': 'IN', 'before': ' ', 'after': ' '}, {'index': 17, 'word': '10', 'originalText': '10', 'characterOffsetBegin': 68, 'characterOffsetEnd': 70, 'pos': 'CD', 'before': ' ', 'after': ''}, {'index': 18, 'word': 'fps', 'originalText': 'fps', 'characterOffsetBegin': 70, 'characterOffsetEnd': 73, 'pos': 'NNS', 'before': '', 'after': ' '}, {'index': 19, 'word': 'and', 'originalText': 'and', 'characterOffsetBegin': 74, 'characterOffsetEnd': 77, 'pos': 'CC', 'before': ' ', 'after': ' '}, {'index': 20, 'word': 'measured', 'originalText': 'measured', 'characterOffsetBegin': 78, 'characterOffsetEnd': 86, 'pos': 'VBN', 'before': ' ', 'after': ' '}, {'index': 21, 'word': 'in', 'originalText': 'in', 'characterOffsetBegin': 87, 'characterOffsetEnd': 89, 'pos': 'IN', 'before': ' ', 'after': ' '}, {'index': 22, 'word': 'at', 'originalText': 'at', 'characterOffsetBegin': 90, 'characterOffsetEnd': 92, 'pos': 'IN', 'before': ' ', 'after': ' '}, {'index': 23, 'word': '1.2', 'originalText': '1.2', 'characterOffsetBegin': 93, 'characterOffsetEnd': 96, 'pos': 'CD', 'before': ' ', 'after': ''}, {'index': 24, 'word': 'MB', 'originalText': 'MB', 'characterOffsetBegin': 96, 'characterOffsetEnd': 98, 'pos': 'NN', 'before': '', 'after': ''}, {'index': 25, 'word': '.', 'originalText': '.', 'characterOffsetBegin': 98, 'characterOffsetEnd': 99, 'pos': '.', 'before': '', 'after': ''}]}]}, {'sentences': [{'index': 0, 'parse': '(ROOT\\n  (S\\n    (NP (PRP I))\\n    (VP (VBP consider)\\n      (NP (DT the) (JJ fractal) (NNS movies))\\n      (NP (DT a) (JJ practical) (NN thing)\\n        (S\\n          (VP (TO to)\\n            (VP (VB explore))))))\\n    (. .)))', 'basicDependencies': [{'dep': 'ROOT', 'governor': 0, 'governorGloss': 'ROOT', 'dependent': 2, 'dependentGloss': 'consider'}, {'dep': 'nsubj', 'governor': 2, 'governorGloss': 'consider', 'dependent': 1, 'dependentGloss': 'I'}, {'dep': 'det', 'governor': 5, 'governorGloss': 'movies', 'dependent': 3, 'dependentGloss': 'the'}, {'dep': 'amod', 'governor': 5, 'governorGloss': 'movies', 'dependent': 4, 'dependentGloss': 'fractal'}, {'dep': 'nsubj', 'governor': 8, 'governorGloss': 'thing', 'dependent': 5, 'dependentGloss': 'movies'}, {'dep': 'det', 'governor': 8, 'governorGloss': 'thing', 'dependent': 6, 'dependentGloss': 'a'}, {'dep': 'amod', 'governor': 8, 'governorGloss': 'thing', 'dependent': 7, 'dependentGloss': 'practical'}, {'dep': 'xcomp', 'governor': 2, 'governorGloss': 'consider', 'dependent': 8, 'dependentGloss': 'thing'}, {'dep': 'mark', 'governor': 10, 'governorGloss': 'explore', 'dependent': 9, 'dependentGloss': 'to'}, {'dep': 'acl', 'governor': 8, 'governorGloss': 'thing', 'dependent': 10, 'dependentGloss': 'explore'}, {'dep': 'punct', 'governor': 2, 'governorGloss': 'consider', 'dependent': 11, 'dependentGloss': '.'}], 'enhancedDependencies': [{'dep': 'ROOT', 'governor': 0, 'governorGloss': 'ROOT', 'dependent': 2, 'dependentGloss': 'consider'}, {'dep': 'nsubj', 'governor': 2, 'governorGloss': 'consider', 'dependent': 1, 'dependentGloss': 'I'}, {'dep': 'det', 'governor': 5, 'governorGloss': 'movies', 'dependent': 3, 'dependentGloss': 'the'}, {'dep': 'amod', 'governor': 5, 'governorGloss': 'movies', 'dependent': 4, 'dependentGloss': 'fractal'}, {'dep': 'nsubj', 'governor': 8, 'governorGloss': 'thing', 'dependent': 5, 'dependentGloss': 'movies'}, {'dep': 'det', 'governor': 8, 'governorGloss': 'thing', 'dependent': 6, 'dependentGloss': 'a'}, {'dep': 'amod', 'governor': 8, 'governorGloss': 'thing', 'dependent': 7, 'dependentGloss': 'practical'}, {'dep': 'xcomp', 'governor': 2, 'governorGloss': 'consider', 'dependent': 8, 'dependentGloss': 'thing'}, {'dep': 'mark', 'governor': 10, 'governorGloss': 'explore', 'dependent': 9, 'dependentGloss': 'to'}, {'dep': 'acl:to', 'governor': 8, 'governorGloss': 'thing', 'dependent': 10, 'dependentGloss': 'explore'}, {'dep': 'punct', 'governor': 2, 'governorGloss': 'consider', 'dependent': 11, 'dependentGloss': '.'}], 'enhancedPlusPlusDependencies': [{'dep': 'ROOT', 'governor': 0, 'governorGloss': 'ROOT', 'dependent': 2, 'dependentGloss': 'consider'}, {'dep': 'nsubj', 'governor': 2, 'governorGloss': 'consider', 'dependent': 1, 'dependentGloss': 'I'}, {'dep': 'det', 'governor': 5, 'governorGloss': 'movies', 'dependent': 3, 'dependentGloss': 'the'}, {'dep': 'amod', 'governor': 5, 'governorGloss': 'movies', 'dependent': 4, 'dependentGloss': 'fractal'}, {'dep': 'nsubj', 'governor': 8, 'governorGloss': 'thing', 'dependent': 5, 'dependentGloss': 'movies'}, {'dep': 'det', 'governor': 8, 'governorGloss': 'thing', 'dependent': 6, 'dependentGloss': 'a'}, {'dep': 'amod', 'governor': 8, 'governorGloss': 'thing', 'dependent': 7, 'dependentGloss': 'practical'}, {'dep': 'xcomp', 'governor': 2, 'governorGloss': 'consider', 'dependent': 8, 'dependentGloss': 'thing'}, {'dep': 'mark', 'governor': 10, 'governorGloss': 'explore', 'dependent': 9, 'dependentGloss': 'to'}, {'dep': 'acl:to', 'governor': 8, 'governorGloss': 'thing', 'dependent': 10, 'dependentGloss': 'explore'}, {'dep': 'punct', 'governor': 2, 'governorGloss': 'consider', 'dependent': 11, 'dependentGloss': '.'}], 'tokens': [{'index': 1, 'word': 'I', 'originalText': 'I', 'characterOffsetBegin': 0, 'characterOffsetEnd': 1, 'pos': 'PRP', 'before': '', 'after': ' '}, {'index': 2, 'word': 'consider', 'originalText': 'consider', 'characterOffsetBegin': 2, 'characterOffsetEnd': 10, 'pos': 'VBP', 'before': ' ', 'after': ' '}, {'index': 3, 'word': 'the', 'originalText': 'the', 'characterOffsetBegin': 11, 'characterOffsetEnd': 14, 'pos': 'DT', 'before': ' ', 'after': ' '}, {'index': 4, 'word': 'fractal', 'originalText': 'fractal', 'characterOffsetBegin': 15, 'characterOffsetEnd': 22, 'pos': 'JJ', 'before': ' ', 'after': ' '}, {'index': 5, 'word': 'movies', 'originalText': 'movies', 'characterOffsetBegin': 23, 'characterOffsetEnd': 29, 'pos': 'NNS', 'before': ' ', 'after': ' '}, {'index': 6, 'word': 'a', 'originalText': 'a', 'characterOffsetBegin': 30, 'characterOffsetEnd': 31, 'pos': 'DT', 'before': ' ', 'after': ' '}, {'index': 7, 'word': 'practical', 'originalText': 'practical', 'characterOffsetBegin': 32, 'characterOffsetEnd': 41, 'pos': 'JJ', 'before': ' ', 'after': ' '}, {'index': 8, 'word': 'thing', 'originalText': 'thing', 'characterOffsetBegin': 42, 'characterOffsetEnd': 47, 'pos': 'NN', 'before': ' ', 'after': ' '}, {'index': 9, 'word': 'to', 'originalText': 'to', 'characterOffsetBegin': 48, 'characterOffsetEnd': 50, 'pos': 'TO', 'before': ' ', 'after': ' '}, {'index': 10, 'word': 'explore', 'originalText': 'explore', 'characterOffsetBegin': 51, 'characterOffsetEnd': 58, 'pos': 'VB', 'before': ' ', 'after': ''}, {'index': 11, 'word': '.', 'originalText': '.', 'characterOffsetBegin': 58, 'characterOffsetEnd': 59, 'pos': '.', 'before': '', 'after': ''}]}]}, {'sentences': [{'index': 0, 'parse': '(ROOT\\n  (S (CC But)\\n    (PP (IN unlike)\\n      (NP\\n        (NP (JJ many) (JJ other) (NNS formats))\\n        (PP (IN out)\\n          (NP (RB there)))))\\n    (, ,)\\n    (NP (PRP you))\\n    (VP (VBP do)\\n      (VP (VB end)\\n        (PRT (RP up))\\n        (S\\n          (VP (VBG losing)\\n            (NP (NN resolution))))))\\n    (. .)))', 'basicDependencies': [{'dep': 'ROOT', 'governor': 0, 'governorGloss': 'ROOT', 'dependent': 11, 'dependentGloss': 'end'}, {'dep': 'cc', 'governor': 11, 'governorGloss': 'end', 'dependent': 1, 'dependentGloss': 'But'}, {'dep': 'case', 'governor': 5, 'governorGloss': 'formats', 'dependent': 2, 'dependentGloss': 'unlike'}, {'dep': 'amod', 'governor': 5, 'governorGloss': 'formats', 'dependent': 3, 'dependentGloss': 'many'}, {'dep': 'amod', 'governor': 5, 'governorGloss': 'formats', 'dependent': 4, 'dependentGloss': 'other'}, {'dep': 'nmod', 'governor': 11, 'governorGloss': 'end', 'dependent': 5, 'dependentGloss': 'formats'}, {'dep': 'case', 'governor': 7, 'governorGloss': 'there', 'dependent': 6, 'dependentGloss': 'out'}, {'dep': 'advmod', 'governor': 5, 'governorGloss': 'formats', 'dependent': 7, 'dependentGloss': 'there'}, {'dep': 'punct', 'governor': 11, 'governorGloss': 'end', 'dependent': 8, 'dependentGloss': ','}, {'dep': 'nsubj', 'governor': 11, 'governorGloss': 'end', 'dependent': 9, 'dependentGloss': 'you'}, {'dep': 'aux', 'governor': 11, 'governorGloss': 'end', 'dependent': 10, 'dependentGloss': 'do'}, {'dep': 'compound:prt', 'governor': 11, 'governorGloss': 'end', 'dependent': 12, 'dependentGloss': 'up'}, {'dep': 'xcomp', 'governor': 11, 'governorGloss': 'end', 'dependent': 13, 'dependentGloss': 'losing'}, {'dep': 'dobj', 'governor': 13, 'governorGloss': 'losing', 'dependent': 14, 'dependentGloss': 'resolution'}, {'dep': 'punct', 'governor': 11, 'governorGloss': 'end', 'dependent': 15, 'dependentGloss': '.'}], 'enhancedDependencies': [{'dep': 'ROOT', 'governor': 0, 'governorGloss': 'ROOT', 'dependent': 11, 'dependentGloss': 'end'}, {'dep': 'cc', 'governor': 11, 'governorGloss': 'end', 'dependent': 1, 'dependentGloss': 'But'}, {'dep': 'case', 'governor': 5, 'governorGloss': 'formats', 'dependent': 2, 'dependentGloss': 'unlike'}, {'dep': 'amod', 'governor': 5, 'governorGloss': 'formats', 'dependent': 3, 'dependentGloss': 'many'}, {'dep': 'amod', 'governor': 5, 'governorGloss': 'formats', 'dependent': 4, 'dependentGloss': 'other'}, {'dep': 'nmod:unlike', 'governor': 11, 'governorGloss': 'end', 'dependent': 5, 'dependentGloss': 'formats'}, {'dep': 'case', 'governor': 7, 'governorGloss': 'there', 'dependent': 6, 'dependentGloss': 'out'}, {'dep': 'advmod', 'governor': 5, 'governorGloss': 'formats', 'dependent': 7, 'dependentGloss': 'there'}, {'dep': 'punct', 'governor': 11, 'governorGloss': 'end', 'dependent': 8, 'dependentGloss': ','}, {'dep': 'nsubj', 'governor': 11, 'governorGloss': 'end', 'dependent': 9, 'dependentGloss': 'you'}, {'dep': 'aux', 'governor': 11, 'governorGloss': 'end', 'dependent': 10, 'dependentGloss': 'do'}, {'dep': 'compound:prt', 'governor': 11, 'governorGloss': 'end', 'dependent': 12, 'dependentGloss': 'up'}, {'dep': 'xcomp', 'governor': 11, 'governorGloss': 'end', 'dependent': 13, 'dependentGloss': 'losing'}, {'dep': 'dobj', 'governor': 13, 'governorGloss': 'losing', 'dependent': 14, 'dependentGloss': 'resolution'}, {'dep': 'punct', 'governor': 11, 'governorGloss': 'end', 'dependent': 15, 'dependentGloss': '.'}], 'enhancedPlusPlusDependencies': [{'dep': 'ROOT', 'governor': 0, 'governorGloss': 'ROOT', 'dependent': 11, 'dependentGloss': 'end'}, {'dep': 'cc', 'governor': 11, 'governorGloss': 'end', 'dependent': 1, 'dependentGloss': 'But'}, {'dep': 'case', 'governor': 5, 'governorGloss': 'formats', 'dependent': 2, 'dependentGloss': 'unlike'}, {'dep': 'amod', 'governor': 5, 'governorGloss': 'formats', 'dependent': 3, 'dependentGloss': 'many'}, {'dep': 'amod', 'governor': 5, 'governorGloss': 'formats', 'dependent': 4, 'dependentGloss': 'other'}, {'dep': 'nmod:unlike', 'governor': 11, 'governorGloss': 'end', 'dependent': 5, 'dependentGloss': 'formats'}, {'dep': 'case', 'governor': 7, 'governorGloss': 'there', 'dependent': 6, 'dependentGloss': 'out'}, {'dep': 'advmod', 'governor': 5, 'governorGloss': 'formats', 'dependent': 7, 'dependentGloss': 'there'}, {'dep': 'punct', 'governor': 11, 'governorGloss': 'end', 'dependent': 8, 'dependentGloss': ','}, {'dep': 'nsubj', 'governor': 11, 'governorGloss': 'end', 'dependent': 9, 'dependentGloss': 'you'}, {'dep': 'aux', 'governor': 11, 'governorGloss': 'end', 'dependent': 10, 'dependentGloss': 'do'}, {'dep': 'compound:prt', 'governor': 11, 'governorGloss': 'end', 'dependent': 12, 'dependentGloss': 'up'}, {'dep': 'xcomp', 'governor': 11, 'governorGloss': 'end', 'dependent': 13, 'dependentGloss': 'losing'}, {'dep': 'dobj', 'governor': 13, 'governorGloss': 'losing', 'dependent': 14, 'dependentGloss': 'resolution'}, {'dep': 'punct', 'governor': 11, 'governorGloss': 'end', 'dependent': 15, 'dependentGloss': '.'}], 'tokens': [{'index': 1, 'word': 'But', 'originalText': 'But', 'characterOffsetBegin': 0, 'characterOffsetEnd': 3, 'pos': 'CC', 'before': '', 'after': ' '}, {'index': 2, 'word': 'unlike', 'originalText': 'unlike', 'characterOffsetBegin': 4, 'characterOffsetEnd': 10, 'pos': 'IN', 'before': ' ', 'after': ' '}, {'index': 3, 'word': 'many', 'originalText': 'many', 'characterOffsetBegin': 11, 'characterOffsetEnd': 15, 'pos': 'JJ', 'before': ' ', 'after': '  '}, {'index': 4, 'word': 'other', 'originalText': 'other', 'characterOffsetBegin': 17, 'characterOffsetEnd': 22, 'pos': 'JJ', 'before': '  ', 'after': ' '}, {'index': 5, 'word': 'formats', 'originalText': 'formats', 'characterOffsetBegin': 23, 'characterOffsetEnd': 30, 'pos': 'NNS', 'before': ' ', 'after': ' '}, {'index': 6, 'word': 'out', 'originalText': 'out', 'characterOffsetBegin': 31, 'characterOffsetEnd': 34, 'pos': 'IN', 'before': ' ', 'after': ' '}, {'index': 7, 'word': 'there', 'originalText': 'there', 'characterOffsetBegin': 35, 'characterOffsetEnd': 40, 'pos': 'RB', 'before': ' ', 'after': ''}, {'index': 8, 'word': ',', 'originalText': ',', 'characterOffsetBegin': 40, 'characterOffsetEnd': 41, 'pos': ',', 'before': '', 'after': ' '}, {'index': 9, 'word': 'you', 'originalText': 'you', 'characterOffsetBegin': 42, 'characterOffsetEnd': 45, 'pos': 'PRP', 'before': ' ', 'after': ' '}, {'index': 10, 'word': 'do', 'originalText': 'do', 'characterOffsetBegin': 46, 'characterOffsetEnd': 48, 'pos': 'VBP', 'before': ' ', 'after': ' '}, {'index': 11, 'word': 'end', 'originalText': 'end', 'characterOffsetBegin': 49, 'characterOffsetEnd': 52, 'pos': 'VB', 'before': ' ', 'after': ' '}, {'index': 12, 'word': 'up', 'originalText': 'up', 'characterOffsetBegin': 53, 'characterOffsetEnd': 55, 'pos': 'RP', 'before': ' ', 'after': ' '}, {'index': 13, 'word': 'losing', 'originalText': 'losing', 'characterOffsetBegin': 56, 'characterOffsetEnd': 62, 'pos': 'VBG', 'before': ' ', 'after': ' '}, {'index': 14, 'word': 'resolution', 'originalText': 'resolution', 'characterOffsetBegin': 63, 'characterOffsetEnd': 73, 'pos': 'NN', 'before': ' ', 'after': ''}, {'index': 15, 'word': '.', 'originalText': '.', 'characterOffsetBegin': 73, 'characterOffsetEnd': 74, 'pos': '.', 'before': '', 'after': ''}]}]}, {'sentences': [{'index': 0, 'parse': \"(ROOT\\n  (S\\n    (NP (PRP I))\\n    (VP (VBP do) (RB n't)\\n      (VP (VB know)\\n        (SBAR\\n          (WHNP (WP what))\\n          (S\\n            (NP\\n              (NP (NN kind))\\n              (PP (IN of)\\n                (NP (NN software/hardware))))\\n            (VP (VBD was)\\n              (VP (VBN used)\\n                (PP (IN for)\\n                  (S\\n                    (VP (VBG creating)\\n                      (NP\\n                        (NP (DT the) (`` ``) (NNS movies) ('' ''))\\n                        (SBAR\\n                          (S\\n                            (NP (PRP I))\\n                            (VP (VBD saw)\\n                              (SBAR (CC but)\\n                                (S\\n                                  (NP\\n                                    (NP (DT the) (NN guy))\\n                                    (SBAR\\n                                      (WHNP (WDT that))\\n                                      (S\\n                                        (VP (VBD showed)\\n                                          (NP (PRP them))\\n                                          (PP (TO to)\\n                                            (NP (PRP me)))))))\\n                                  (VP (VBD said)\\n                                    (SBAR\\n                                      (S\\n                                        (NP (PRP it))\\n                                        (VP (VBD took)\\n                                          (NP\\n                                            (NP (CD 5-15) (NNS minutes))\\n                                            (PP (IN per)\\n                                              (NP (NN frame))))\\n                                          (S\\n                                            (VP (TO to)\\n                                              (VP (VB generate)))))))))))))))))))))))\\n    (. .)))\", 'basicDependencies': [{'dep': 'ROOT', 'governor': 0, 'governorGloss': 'ROOT', 'dependent': 4, 'dependentGloss': 'know'}, {'dep': 'nsubj', 'governor': 4, 'governorGloss': 'know', 'dependent': 1, 'dependentGloss': 'I'}, {'dep': 'aux', 'governor': 4, 'governorGloss': 'know', 'dependent': 2, 'dependentGloss': 'do'}, {'dep': 'neg', 'governor': 4, 'governorGloss': 'know', 'dependent': 3, 'dependentGloss': \"n't\"}, {'dep': 'det', 'governor': 6, 'governorGloss': 'kind', 'dependent': 5, 'dependentGloss': 'what'}, {'dep': 'nsubjpass', 'governor': 10, 'governorGloss': 'used', 'dependent': 6, 'dependentGloss': 'kind'}, {'dep': 'case', 'governor': 8, 'governorGloss': 'software/hardware', 'dependent': 7, 'dependentGloss': 'of'}, {'dep': 'nmod', 'governor': 6, 'governorGloss': 'kind', 'dependent': 8, 'dependentGloss': 'software/hardware'}, {'dep': 'auxpass', 'governor': 10, 'governorGloss': 'used', 'dependent': 9, 'dependentGloss': 'was'}, {'dep': 'ccomp', 'governor': 4, 'governorGloss': 'know', 'dependent': 10, 'dependentGloss': 'used'}, {'dep': 'mark', 'governor': 12, 'governorGloss': 'creating', 'dependent': 11, 'dependentGloss': 'for'}, {'dep': 'advcl', 'governor': 10, 'governorGloss': 'used', 'dependent': 12, 'dependentGloss': 'creating'}, {'dep': 'det', 'governor': 15, 'governorGloss': 'movies', 'dependent': 13, 'dependentGloss': 'the'}, {'dep': 'punct', 'governor': 15, 'governorGloss': 'movies', 'dependent': 14, 'dependentGloss': '``'}, {'dep': 'dobj', 'governor': 12, 'governorGloss': 'creating', 'dependent': 15, 'dependentGloss': 'movies'}, {'dep': 'punct', 'governor': 15, 'governorGloss': 'movies', 'dependent': 16, 'dependentGloss': \"''\"}, {'dep': 'nsubj', 'governor': 18, 'governorGloss': 'saw', 'dependent': 17, 'dependentGloss': 'I'}, {'dep': 'acl:relcl', 'governor': 15, 'governorGloss': 'movies', 'dependent': 18, 'dependentGloss': 'saw'}, {'dep': 'cc', 'governor': 12, 'governorGloss': 'creating', 'dependent': 19, 'dependentGloss': 'but'}, {'dep': 'det', 'governor': 21, 'governorGloss': 'guy', 'dependent': 20, 'dependentGloss': 'the'}, {'dep': 'nsubj', 'governor': 27, 'governorGloss': 'said', 'dependent': 21, 'dependentGloss': 'guy'}, {'dep': 'nsubj', 'governor': 23, 'governorGloss': 'showed', 'dependent': 22, 'dependentGloss': 'that'}, {'dep': 'acl:relcl', 'governor': 21, 'governorGloss': 'guy', 'dependent': 23, 'dependentGloss': 'showed'}, {'dep': 'dobj', 'governor': 23, 'governorGloss': 'showed', 'dependent': 24, 'dependentGloss': 'them'}, {'dep': 'case', 'governor': 26, 'governorGloss': 'me', 'dependent': 25, 'dependentGloss': 'to'}, {'dep': 'nmod', 'governor': 23, 'governorGloss': 'showed', 'dependent': 26, 'dependentGloss': 'me'}, {'dep': 'conj', 'governor': 12, 'governorGloss': 'creating', 'dependent': 27, 'dependentGloss': 'said'}, {'dep': 'nsubj', 'governor': 29, 'governorGloss': 'took', 'dependent': 28, 'dependentGloss': 'it'}, {'dep': 'ccomp', 'governor': 27, 'governorGloss': 'said', 'dependent': 29, 'dependentGloss': 'took'}, {'dep': 'nummod', 'governor': 31, 'governorGloss': 'minutes', 'dependent': 30, 'dependentGloss': '5-15'}, {'dep': 'dobj', 'governor': 29, 'governorGloss': 'took', 'dependent': 31, 'dependentGloss': 'minutes'}, {'dep': 'case', 'governor': 33, 'governorGloss': 'frame', 'dependent': 32, 'dependentGloss': 'per'}, {'dep': 'nmod', 'governor': 31, 'governorGloss': 'minutes', 'dependent': 33, 'dependentGloss': 'frame'}, {'dep': 'mark', 'governor': 35, 'governorGloss': 'generate', 'dependent': 34, 'dependentGloss': 'to'}, {'dep': 'advcl', 'governor': 29, 'governorGloss': 'took', 'dependent': 35, 'dependentGloss': 'generate'}, {'dep': 'punct', 'governor': 4, 'governorGloss': 'know', 'dependent': 36, 'dependentGloss': '.'}], 'enhancedDependencies': [{'dep': 'ROOT', 'governor': 0, 'governorGloss': 'ROOT', 'dependent': 4, 'dependentGloss': 'know'}, {'dep': 'nsubj', 'governor': 4, 'governorGloss': 'know', 'dependent': 1, 'dependentGloss': 'I'}, {'dep': 'aux', 'governor': 4, 'governorGloss': 'know', 'dependent': 2, 'dependentGloss': 'do'}, {'dep': 'neg', 'governor': 4, 'governorGloss': 'know', 'dependent': 3, 'dependentGloss': \"n't\"}, {'dep': 'det', 'governor': 6, 'governorGloss': 'kind', 'dependent': 5, 'dependentGloss': 'what'}, {'dep': 'nsubjpass', 'governor': 10, 'governorGloss': 'used', 'dependent': 6, 'dependentGloss': 'kind'}, {'dep': 'case', 'governor': 8, 'governorGloss': 'software/hardware', 'dependent': 7, 'dependentGloss': 'of'}, {'dep': 'nmod:of', 'governor': 6, 'governorGloss': 'kind', 'dependent': 8, 'dependentGloss': 'software/hardware'}, {'dep': 'auxpass', 'governor': 10, 'governorGloss': 'used', 'dependent': 9, 'dependentGloss': 'was'}, {'dep': 'ccomp', 'governor': 4, 'governorGloss': 'know', 'dependent': 10, 'dependentGloss': 'used'}, {'dep': 'mark', 'governor': 12, 'governorGloss': 'creating', 'dependent': 11, 'dependentGloss': 'for'}, {'dep': 'advcl:for', 'governor': 10, 'governorGloss': 'used', 'dependent': 12, 'dependentGloss': 'creating'}, {'dep': 'det', 'governor': 15, 'governorGloss': 'movies', 'dependent': 13, 'dependentGloss': 'the'}, {'dep': 'punct', 'governor': 15, 'governorGloss': 'movies', 'dependent': 14, 'dependentGloss': '``'}, {'dep': 'dobj', 'governor': 12, 'governorGloss': 'creating', 'dependent': 15, 'dependentGloss': 'movies'}, {'dep': 'punct', 'governor': 15, 'governorGloss': 'movies', 'dependent': 16, 'dependentGloss': \"''\"}, {'dep': 'nsubj', 'governor': 18, 'governorGloss': 'saw', 'dependent': 17, 'dependentGloss': 'I'}, {'dep': 'acl:relcl', 'governor': 15, 'governorGloss': 'movies', 'dependent': 18, 'dependentGloss': 'saw'}, {'dep': 'cc', 'governor': 12, 'governorGloss': 'creating', 'dependent': 19, 'dependentGloss': 'but'}, {'dep': 'det', 'governor': 21, 'governorGloss': 'guy', 'dependent': 20, 'dependentGloss': 'the'}, {'dep': 'nsubj', 'governor': 23, 'governorGloss': 'showed', 'dependent': 21, 'dependentGloss': 'guy'}, {'dep': 'nsubj', 'governor': 27, 'governorGloss': 'said', 'dependent': 21, 'dependentGloss': 'guy'}, {'dep': 'ref', 'governor': 21, 'governorGloss': 'guy', 'dependent': 22, 'dependentGloss': 'that'}, {'dep': 'acl:relcl', 'governor': 21, 'governorGloss': 'guy', 'dependent': 23, 'dependentGloss': 'showed'}, {'dep': 'dobj', 'governor': 23, 'governorGloss': 'showed', 'dependent': 24, 'dependentGloss': 'them'}, {'dep': 'case', 'governor': 26, 'governorGloss': 'me', 'dependent': 25, 'dependentGloss': 'to'}, {'dep': 'nmod:to', 'governor': 23, 'governorGloss': 'showed', 'dependent': 26, 'dependentGloss': 'me'}, {'dep': 'advcl:for', 'governor': 10, 'governorGloss': 'used', 'dependent': 27, 'dependentGloss': 'said'}, {'dep': 'conj:but', 'governor': 12, 'governorGloss': 'creating', 'dependent': 27, 'dependentGloss': 'said'}, {'dep': 'nsubj', 'governor': 29, 'governorGloss': 'took', 'dependent': 28, 'dependentGloss': 'it'}, {'dep': 'ccomp', 'governor': 27, 'governorGloss': 'said', 'dependent': 29, 'dependentGloss': 'took'}, {'dep': 'nummod', 'governor': 31, 'governorGloss': 'minutes', 'dependent': 30, 'dependentGloss': '5-15'}, {'dep': 'dobj', 'governor': 29, 'governorGloss': 'took', 'dependent': 31, 'dependentGloss': 'minutes'}, {'dep': 'case', 'governor': 33, 'governorGloss': 'frame', 'dependent': 32, 'dependentGloss': 'per'}, {'dep': 'nmod:per', 'governor': 31, 'governorGloss': 'minutes', 'dependent': 33, 'dependentGloss': 'frame'}, {'dep': 'mark', 'governor': 35, 'governorGloss': 'generate', 'dependent': 34, 'dependentGloss': 'to'}, {'dep': 'advcl:to', 'governor': 29, 'governorGloss': 'took', 'dependent': 35, 'dependentGloss': 'generate'}, {'dep': 'punct', 'governor': 4, 'governorGloss': 'know', 'dependent': 36, 'dependentGloss': '.'}], 'enhancedPlusPlusDependencies': [{'dep': 'ROOT', 'governor': 0, 'governorGloss': 'ROOT', 'dependent': 4, 'dependentGloss': 'know'}, {'dep': 'nsubj', 'governor': 4, 'governorGloss': 'know', 'dependent': 1, 'dependentGloss': 'I'}, {'dep': 'aux', 'governor': 4, 'governorGloss': 'know', 'dependent': 2, 'dependentGloss': 'do'}, {'dep': 'neg', 'governor': 4, 'governorGloss': 'know', 'dependent': 3, 'dependentGloss': \"n't\"}, {'dep': 'det', 'governor': 6, 'governorGloss': 'kind', 'dependent': 5, 'dependentGloss': 'what'}, {'dep': 'nsubjpass', 'governor': 10, 'governorGloss': 'used', 'dependent': 6, 'dependentGloss': 'kind'}, {'dep': 'case', 'governor': 8, 'governorGloss': 'software/hardware', 'dependent': 7, 'dependentGloss': 'of'}, {'dep': 'nmod:of', 'governor': 6, 'governorGloss': 'kind', 'dependent': 8, 'dependentGloss': 'software/hardware'}, {'dep': 'auxpass', 'governor': 10, 'governorGloss': 'used', 'dependent': 9, 'dependentGloss': 'was'}, {'dep': 'ccomp', 'governor': 4, 'governorGloss': 'know', 'dependent': 10, 'dependentGloss': 'used'}, {'dep': 'mark', 'governor': 12, 'governorGloss': 'creating', 'dependent': 11, 'dependentGloss': 'for'}, {'dep': 'advcl:for', 'governor': 10, 'governorGloss': 'used', 'dependent': 12, 'dependentGloss': 'creating'}, {'dep': 'det', 'governor': 15, 'governorGloss': 'movies', 'dependent': 13, 'dependentGloss': 'the'}, {'dep': 'punct', 'governor': 15, 'governorGloss': 'movies', 'dependent': 14, 'dependentGloss': '``'}, {'dep': 'dobj', 'governor': 12, 'governorGloss': 'creating', 'dependent': 15, 'dependentGloss': 'movies'}, {'dep': 'punct', 'governor': 15, 'governorGloss': 'movies', 'dependent': 16, 'dependentGloss': \"''\"}, {'dep': 'nsubj', 'governor': 18, 'governorGloss': 'saw', 'dependent': 17, 'dependentGloss': 'I'}, {'dep': 'acl:relcl', 'governor': 15, 'governorGloss': 'movies', 'dependent': 18, 'dependentGloss': 'saw'}, {'dep': 'cc', 'governor': 12, 'governorGloss': 'creating', 'dependent': 19, 'dependentGloss': 'but'}, {'dep': 'det', 'governor': 21, 'governorGloss': 'guy', 'dependent': 20, 'dependentGloss': 'the'}, {'dep': 'nsubj', 'governor': 23, 'governorGloss': 'showed', 'dependent': 21, 'dependentGloss': 'guy'}, {'dep': 'nsubj', 'governor': 27, 'governorGloss': 'said', 'dependent': 21, 'dependentGloss': 'guy'}, {'dep': 'ref', 'governor': 21, 'governorGloss': 'guy', 'dependent': 22, 'dependentGloss': 'that'}, {'dep': 'acl:relcl', 'governor': 21, 'governorGloss': 'guy', 'dependent': 23, 'dependentGloss': 'showed'}, {'dep': 'dobj', 'governor': 23, 'governorGloss': 'showed', 'dependent': 24, 'dependentGloss': 'them'}, {'dep': 'case', 'governor': 26, 'governorGloss': 'me', 'dependent': 25, 'dependentGloss': 'to'}, {'dep': 'nmod:to', 'governor': 23, 'governorGloss': 'showed', 'dependent': 26, 'dependentGloss': 'me'}, {'dep': 'advcl:for', 'governor': 10, 'governorGloss': 'used', 'dependent': 27, 'dependentGloss': 'said'}, {'dep': 'conj:but', 'governor': 12, 'governorGloss': 'creating', 'dependent': 27, 'dependentGloss': 'said'}, {'dep': 'nsubj', 'governor': 29, 'governorGloss': 'took', 'dependent': 28, 'dependentGloss': 'it'}, {'dep': 'ccomp', 'governor': 27, 'governorGloss': 'said', 'dependent': 29, 'dependentGloss': 'took'}, {'dep': 'nummod', 'governor': 31, 'governorGloss': 'minutes', 'dependent': 30, 'dependentGloss': '5-15'}, {'dep': 'dobj', 'governor': 29, 'governorGloss': 'took', 'dependent': 31, 'dependentGloss': 'minutes'}, {'dep': 'case', 'governor': 33, 'governorGloss': 'frame', 'dependent': 32, 'dependentGloss': 'per'}, {'dep': 'nmod:per', 'governor': 31, 'governorGloss': 'minutes', 'dependent': 33, 'dependentGloss': 'frame'}, {'dep': 'mark', 'governor': 35, 'governorGloss': 'generate', 'dependent': 34, 'dependentGloss': 'to'}, {'dep': 'advcl:to', 'governor': 29, 'governorGloss': 'took', 'dependent': 35, 'dependentGloss': 'generate'}, {'dep': 'punct', 'governor': 4, 'governorGloss': 'know', 'dependent': 36, 'dependentGloss': '.'}], 'tokens': [{'index': 1, 'word': 'I', 'originalText': 'I', 'characterOffsetBegin': 0, 'characterOffsetEnd': 1, 'pos': 'PRP', 'before': '', 'after': ' '}, {'index': 2, 'word': 'do', 'originalText': 'do', 'characterOffsetBegin': 2, 'characterOffsetEnd': 4, 'pos': 'VBP', 'before': ' ', 'after': ''}, {'index': 3, 'word': \"n't\", 'originalText': \"n't\", 'characterOffsetBegin': 4, 'characterOffsetEnd': 7, 'pos': 'RB', 'before': '', 'after': ' '}, {'index': 4, 'word': 'know', 'originalText': 'know', 'characterOffsetBegin': 8, 'characterOffsetEnd': 12, 'pos': 'VB', 'before': ' ', 'after': ' '}, {'index': 5, 'word': 'what', 'originalText': 'what', 'characterOffsetBegin': 13, 'characterOffsetEnd': 17, 'pos': 'WP', 'before': ' ', 'after': ' '}, {'index': 6, 'word': 'kind', 'originalText': 'kind', 'characterOffsetBegin': 18, 'characterOffsetEnd': 22, 'pos': 'NN', 'before': ' ', 'after': ' '}, {'index': 7, 'word': 'of', 'originalText': 'of', 'characterOffsetBegin': 23, 'characterOffsetEnd': 25, 'pos': 'IN', 'before': ' ', 'after': ' '}, {'index': 8, 'word': 'software/hardware', 'originalText': 'software/hardware', 'characterOffsetBegin': 26, 'characterOffsetEnd': 43, 'pos': 'NN', 'before': ' ', 'after': ' '}, {'index': 9, 'word': 'was', 'originalText': 'was', 'characterOffsetBegin': 44, 'characterOffsetEnd': 47, 'pos': 'VBD', 'before': ' ', 'after': ' '}, {'index': 10, 'word': 'used', 'originalText': 'used', 'characterOffsetBegin': 48, 'characterOffsetEnd': 52, 'pos': 'VBN', 'before': ' ', 'after': ' '}, {'index': 11, 'word': 'for', 'originalText': 'for', 'characterOffsetBegin': 53, 'characterOffsetEnd': 56, 'pos': 'IN', 'before': ' ', 'after': ' '}, {'index': 12, 'word': 'creating', 'originalText': 'creating', 'characterOffsetBegin': 57, 'characterOffsetEnd': 65, 'pos': 'VBG', 'before': ' ', 'after': ' '}, {'index': 13, 'word': 'the', 'originalText': 'the', 'characterOffsetBegin': 66, 'characterOffsetEnd': 69, 'pos': 'DT', 'before': ' ', 'after': ' '}, {'index': 14, 'word': '``', 'originalText': '\"', 'characterOffsetBegin': 70, 'characterOffsetEnd': 71, 'pos': '``', 'before': ' ', 'after': ''}, {'index': 15, 'word': 'movies', 'originalText': 'movies', 'characterOffsetBegin': 71, 'characterOffsetEnd': 77, 'pos': 'NNS', 'before': '', 'after': ''}, {'index': 16, 'word': \"''\", 'originalText': '\"', 'characterOffsetBegin': 77, 'characterOffsetEnd': 78, 'pos': \"''\", 'before': '', 'after': ' '}, {'index': 17, 'word': 'I', 'originalText': 'I', 'characterOffsetBegin': 79, 'characterOffsetEnd': 80, 'pos': 'PRP', 'before': ' ', 'after': ' '}, {'index': 18, 'word': 'saw', 'originalText': 'saw', 'characterOffsetBegin': 81, 'characterOffsetEnd': 84, 'pos': 'VBD', 'before': ' ', 'after': ' '}, {'index': 19, 'word': 'but', 'originalText': 'but', 'characterOffsetBegin': 85, 'characterOffsetEnd': 88, 'pos': 'CC', 'before': ' ', 'after': ' '}, {'index': 20, 'word': 'the', 'originalText': 'the', 'characterOffsetBegin': 89, 'characterOffsetEnd': 92, 'pos': 'DT', 'before': ' ', 'after': ' '}, {'index': 21, 'word': 'guy', 'originalText': 'guy', 'characterOffsetBegin': 93, 'characterOffsetEnd': 96, 'pos': 'NN', 'before': ' ', 'after': ' '}, {'index': 22, 'word': 'that', 'originalText': 'that', 'characterOffsetBegin': 97, 'characterOffsetEnd': 101, 'pos': 'WDT', 'before': ' ', 'after': ' '}, {'index': 23, 'word': 'showed', 'originalText': 'showed', 'characterOffsetBegin': 102, 'characterOffsetEnd': 108, 'pos': 'VBD', 'before': ' ', 'after': ' '}, {'index': 24, 'word': 'them', 'originalText': 'them', 'characterOffsetBegin': 109, 'characterOffsetEnd': 113, 'pos': 'PRP', 'before': ' ', 'after': ' '}, {'index': 25, 'word': 'to', 'originalText': 'to', 'characterOffsetBegin': 114, 'characterOffsetEnd': 116, 'pos': 'TO', 'before': ' ', 'after': ' '}, {'index': 26, 'word': 'me', 'originalText': 'me', 'characterOffsetBegin': 117, 'characterOffsetEnd': 119, 'pos': 'PRP', 'before': ' ', 'after': ' '}, {'index': 27, 'word': 'said', 'originalText': 'said', 'characterOffsetBegin': 120, 'characterOffsetEnd': 124, 'pos': 'VBD', 'before': ' ', 'after': ' '}, {'index': 28, 'word': 'it', 'originalText': 'it', 'characterOffsetBegin': 125, 'characterOffsetEnd': 127, 'pos': 'PRP', 'before': ' ', 'after': ' '}, {'index': 29, 'word': 'took', 'originalText': 'took', 'characterOffsetBegin': 128, 'characterOffsetEnd': 132, 'pos': 'VBD', 'before': ' ', 'after': ' '}, {'index': 30, 'word': '5-15', 'originalText': '5-15', 'characterOffsetBegin': 133, 'characterOffsetEnd': 137, 'pos': 'CD', 'before': ' ', 'after': ' '}, {'index': 31, 'word': 'minutes', 'originalText': 'minutes', 'characterOffsetBegin': 138, 'characterOffsetEnd': 145, 'pos': 'NNS', 'before': ' ', 'after': ' '}, {'index': 32, 'word': 'per', 'originalText': 'per', 'characterOffsetBegin': 146, 'characterOffsetEnd': 149, 'pos': 'IN', 'before': ' ', 'after': ' '}, {'index': 33, 'word': 'frame', 'originalText': 'frame', 'characterOffsetBegin': 150, 'characterOffsetEnd': 155, 'pos': 'NN', 'before': ' ', 'after': ' '}, {'index': 34, 'word': 'to', 'originalText': 'to', 'characterOffsetBegin': 156, 'characterOffsetEnd': 158, 'pos': 'TO', 'before': ' ', 'after': ' '}, {'index': 35, 'word': 'generate', 'originalText': 'generate', 'characterOffsetBegin': 159, 'characterOffsetEnd': 167, 'pos': 'VB', 'before': ' ', 'after': ''}, {'index': 36, 'word': '.', 'originalText': '.', 'characterOffsetBegin': 167, 'characterOffsetEnd': 168, 'pos': '.', 'before': '', 'after': ''}]}]}, {'sentences': [{'index': 0, 'parse': '(ROOT\\n  (S (CC But)\\n    (SBAR (IN as)\\n      (S\\n        (NP (PRP I))\\n        (VP (VBD said)\\n          (PP (IN above)\\n            (NP (NN playback))))))\\n    (VP (VBD was)\\n      (NP\\n        (NP\\n          (QP (CD 10)\\n            (CC or)\\n            (JJR more))\\n          (NNS frames))\\n        (PP (IN per)\\n          (NP (NN second)))))\\n    (. .)))', 'basicDependencies': [{'dep': 'ROOT', 'governor': 0, 'governorGloss': 'ROOT', 'dependent': 1, 'dependentGloss': 'But'}, {'dep': 'mark', 'governor': 4, 'governorGloss': 'said', 'dependent': 2, 'dependentGloss': 'as'}, {'dep': 'nsubj', 'governor': 4, 'governorGloss': 'said', 'dependent': 3, 'dependentGloss': 'I'}, {'dep': 'dep', 'governor': 1, 'governorGloss': 'But', 'dependent': 4, 'dependentGloss': 'said'}, {'dep': 'case', 'governor': 6, 'governorGloss': 'playback', 'dependent': 5, 'dependentGloss': 'above'}, {'dep': 'nmod', 'governor': 11, 'governorGloss': 'frames', 'dependent': 6, 'dependentGloss': 'playback'}, {'dep': 'cop', 'governor': 11, 'governorGloss': 'frames', 'dependent': 7, 'dependentGloss': 'was'}, {'dep': 'nummod', 'governor': 11, 'governorGloss': 'frames', 'dependent': 8, 'dependentGloss': '10'}, {'dep': 'cc', 'governor': 8, 'governorGloss': '10', 'dependent': 9, 'dependentGloss': 'or'}, {'dep': 'conj', 'governor': 8, 'governorGloss': '10', 'dependent': 10, 'dependentGloss': 'more'}, {'dep': 'ccomp', 'governor': 4, 'governorGloss': 'said', 'dependent': 11, 'dependentGloss': 'frames'}, {'dep': 'case', 'governor': 13, 'governorGloss': 'second', 'dependent': 12, 'dependentGloss': 'per'}, {'dep': 'nmod', 'governor': 11, 'governorGloss': 'frames', 'dependent': 13, 'dependentGloss': 'second'}, {'dep': 'punct', 'governor': 1, 'governorGloss': 'But', 'dependent': 14, 'dependentGloss': '.'}], 'enhancedDependencies': [{'dep': 'ROOT', 'governor': 0, 'governorGloss': 'ROOT', 'dependent': 1, 'dependentGloss': 'But'}, {'dep': 'mark', 'governor': 4, 'governorGloss': 'said', 'dependent': 2, 'dependentGloss': 'as'}, {'dep': 'nsubj', 'governor': 4, 'governorGloss': 'said', 'dependent': 3, 'dependentGloss': 'I'}, {'dep': 'dep', 'governor': 1, 'governorGloss': 'But', 'dependent': 4, 'dependentGloss': 'said'}, {'dep': 'case', 'governor': 6, 'governorGloss': 'playback', 'dependent': 5, 'dependentGloss': 'above'}, {'dep': 'nmod:above', 'governor': 11, 'governorGloss': 'frames', 'dependent': 6, 'dependentGloss': 'playback'}, {'dep': 'cop', 'governor': 11, 'governorGloss': 'frames', 'dependent': 7, 'dependentGloss': 'was'}, {'dep': 'nummod', 'governor': 11, 'governorGloss': 'frames', 'dependent': 8, 'dependentGloss': '10'}, {'dep': 'cc', 'governor': 8, 'governorGloss': '10', 'dependent': 9, 'dependentGloss': 'or'}, {'dep': 'conj:or', 'governor': 8, 'governorGloss': '10', 'dependent': 10, 'dependentGloss': 'more'}, {'dep': 'nummod', 'governor': 11, 'governorGloss': 'frames', 'dependent': 10, 'dependentGloss': 'more'}, {'dep': 'ccomp', 'governor': 4, 'governorGloss': 'said', 'dependent': 11, 'dependentGloss': 'frames'}, {'dep': 'case', 'governor': 13, 'governorGloss': 'second', 'dependent': 12, 'dependentGloss': 'per'}, {'dep': 'nmod:per', 'governor': 11, 'governorGloss': 'frames', 'dependent': 13, 'dependentGloss': 'second'}, {'dep': 'punct', 'governor': 1, 'governorGloss': 'But', 'dependent': 14, 'dependentGloss': '.'}], 'enhancedPlusPlusDependencies': [{'dep': 'ROOT', 'governor': 0, 'governorGloss': 'ROOT', 'dependent': 1, 'dependentGloss': 'But'}, {'dep': 'mark', 'governor': 4, 'governorGloss': 'said', 'dependent': 2, 'dependentGloss': 'as'}, {'dep': 'nsubj', 'governor': 4, 'governorGloss': 'said', 'dependent': 3, 'dependentGloss': 'I'}, {'dep': 'dep', 'governor': 1, 'governorGloss': 'But', 'dependent': 4, 'dependentGloss': 'said'}, {'dep': 'case', 'governor': 6, 'governorGloss': 'playback', 'dependent': 5, 'dependentGloss': 'above'}, {'dep': 'nmod:above', 'governor': 11, 'governorGloss': 'frames', 'dependent': 6, 'dependentGloss': 'playback'}, {'dep': 'cop', 'governor': 11, 'governorGloss': 'frames', 'dependent': 7, 'dependentGloss': 'was'}, {'dep': 'nummod', 'governor': 11, 'governorGloss': 'frames', 'dependent': 8, 'dependentGloss': '10'}, {'dep': 'cc', 'governor': 8, 'governorGloss': '10', 'dependent': 9, 'dependentGloss': 'or'}, {'dep': 'conj:or', 'governor': 8, 'governorGloss': '10', 'dependent': 10, 'dependentGloss': 'more'}, {'dep': 'nummod', 'governor': 11, 'governorGloss': 'frames', 'dependent': 10, 'dependentGloss': 'more'}, {'dep': 'ccomp', 'governor': 4, 'governorGloss': 'said', 'dependent': 11, 'dependentGloss': 'frames'}, {'dep': 'case', 'governor': 13, 'governorGloss': 'second', 'dependent': 12, 'dependentGloss': 'per'}, {'dep': 'nmod:per', 'governor': 11, 'governorGloss': 'frames', 'dependent': 13, 'dependentGloss': 'second'}, {'dep': 'punct', 'governor': 1, 'governorGloss': 'But', 'dependent': 14, 'dependentGloss': '.'}], 'tokens': [{'index': 1, 'word': 'But', 'originalText': 'But', 'characterOffsetBegin': 0, 'characterOffsetEnd': 3, 'pos': 'CC', 'before': '', 'after': ' '}, {'index': 2, 'word': 'as', 'originalText': 'as', 'characterOffsetBegin': 4, 'characterOffsetEnd': 6, 'pos': 'IN', 'before': ' ', 'after': ' '}, {'index': 3, 'word': 'I', 'originalText': 'I', 'characterOffsetBegin': 7, 'characterOffsetEnd': 8, 'pos': 'PRP', 'before': ' ', 'after': ' '}, {'index': 4, 'word': 'said', 'originalText': 'said', 'characterOffsetBegin': 9, 'characterOffsetEnd': 13, 'pos': 'VBD', 'before': ' ', 'after': ' '}, {'index': 5, 'word': 'above', 'originalText': 'above', 'characterOffsetBegin': 14, 'characterOffsetEnd': 19, 'pos': 'IN', 'before': ' ', 'after': ' '}, {'index': 6, 'word': 'playback', 'originalText': 'playback', 'characterOffsetBegin': 20, 'characterOffsetEnd': 28, 'pos': 'NN', 'before': ' ', 'after': ' '}, {'index': 7, 'word': 'was', 'originalText': 'was', 'characterOffsetBegin': 29, 'characterOffsetEnd': 32, 'pos': 'VBD', 'before': ' ', 'after': ' '}, {'index': 8, 'word': '10', 'originalText': '10', 'characterOffsetBegin': 33, 'characterOffsetEnd': 35, 'pos': 'CD', 'before': ' ', 'after': ' '}, {'index': 9, 'word': 'or', 'originalText': 'or', 'characterOffsetBegin': 36, 'characterOffsetEnd': 38, 'pos': 'CC', 'before': ' ', 'after': ' '}, {'index': 10, 'word': 'more', 'originalText': 'more', 'characterOffsetBegin': 39, 'characterOffsetEnd': 43, 'pos': 'JJR', 'before': ' ', 'after': ' '}, {'index': 11, 'word': 'frames', 'originalText': 'frames', 'characterOffsetBegin': 44, 'characterOffsetEnd': 50, 'pos': 'NNS', 'before': ' ', 'after': ' '}, {'index': 12, 'word': 'per', 'originalText': 'per', 'characterOffsetBegin': 51, 'characterOffsetEnd': 54, 'pos': 'IN', 'before': ' ', 'after': ' '}, {'index': 13, 'word': 'second', 'originalText': 'second', 'characterOffsetBegin': 55, 'characterOffsetEnd': 61, 'pos': 'NN', 'before': ' ', 'after': ''}, {'index': 14, 'word': '.', 'originalText': '.', 'characterOffsetBegin': 61, 'characterOffsetEnd': 62, 'pos': '.', 'before': '', 'after': ''}]}]}, {'sentences': [{'index': 0, 'parse': '(ROOT\\n  (SBARQ (CC And)\\n    (WHNP (WRB how) (RB else))\\n    (SQ (MD could)\\n      (NP (PRP you))\\n      (VP (VB put)\\n        (NP\\n          (NP (CD 11) (NNS minutes))\\n          (PP (IN on)\\n            (NP (CD one) (JJ floppy) (NN disk))))))\\n    (. ?)))', 'basicDependencies': [{'dep': 'ROOT', 'governor': 0, 'governorGloss': 'ROOT', 'dependent': 6, 'dependentGloss': 'put'}, {'dep': 'cc', 'governor': 6, 'governorGloss': 'put', 'dependent': 1, 'dependentGloss': 'And'}, {'dep': 'advmod', 'governor': 3, 'governorGloss': 'else', 'dependent': 2, 'dependentGloss': 'how'}, {'dep': 'advmod', 'governor': 6, 'governorGloss': 'put', 'dependent': 3, 'dependentGloss': 'else'}, {'dep': 'aux', 'governor': 6, 'governorGloss': 'put', 'dependent': 4, 'dependentGloss': 'could'}, {'dep': 'nsubj', 'governor': 6, 'governorGloss': 'put', 'dependent': 5, 'dependentGloss': 'you'}, {'dep': 'nummod', 'governor': 8, 'governorGloss': 'minutes', 'dependent': 7, 'dependentGloss': '11'}, {'dep': 'dobj', 'governor': 6, 'governorGloss': 'put', 'dependent': 8, 'dependentGloss': 'minutes'}, {'dep': 'case', 'governor': 12, 'governorGloss': 'disk', 'dependent': 9, 'dependentGloss': 'on'}, {'dep': 'nummod', 'governor': 12, 'governorGloss': 'disk', 'dependent': 10, 'dependentGloss': 'one'}, {'dep': 'amod', 'governor': 12, 'governorGloss': 'disk', 'dependent': 11, 'dependentGloss': 'floppy'}, {'dep': 'nmod', 'governor': 6, 'governorGloss': 'put', 'dependent': 12, 'dependentGloss': 'disk'}, {'dep': 'punct', 'governor': 6, 'governorGloss': 'put', 'dependent': 13, 'dependentGloss': '?'}], 'enhancedDependencies': [{'dep': 'ROOT', 'governor': 0, 'governorGloss': 'ROOT', 'dependent': 6, 'dependentGloss': 'put'}, {'dep': 'cc', 'governor': 6, 'governorGloss': 'put', 'dependent': 1, 'dependentGloss': 'And'}, {'dep': 'advmod', 'governor': 3, 'governorGloss': 'else', 'dependent': 2, 'dependentGloss': 'how'}, {'dep': 'advmod', 'governor': 6, 'governorGloss': 'put', 'dependent': 3, 'dependentGloss': 'else'}, {'dep': 'aux', 'governor': 6, 'governorGloss': 'put', 'dependent': 4, 'dependentGloss': 'could'}, {'dep': 'nsubj', 'governor': 6, 'governorGloss': 'put', 'dependent': 5, 'dependentGloss': 'you'}, {'dep': 'nummod', 'governor': 8, 'governorGloss': 'minutes', 'dependent': 7, 'dependentGloss': '11'}, {'dep': 'dobj', 'governor': 6, 'governorGloss': 'put', 'dependent': 8, 'dependentGloss': 'minutes'}, {'dep': 'case', 'governor': 12, 'governorGloss': 'disk', 'dependent': 9, 'dependentGloss': 'on'}, {'dep': 'nummod', 'governor': 12, 'governorGloss': 'disk', 'dependent': 10, 'dependentGloss': 'one'}, {'dep': 'amod', 'governor': 12, 'governorGloss': 'disk', 'dependent': 11, 'dependentGloss': 'floppy'}, {'dep': 'nmod:on', 'governor': 6, 'governorGloss': 'put', 'dependent': 12, 'dependentGloss': 'disk'}, {'dep': 'punct', 'governor': 6, 'governorGloss': 'put', 'dependent': 13, 'dependentGloss': '?'}], 'enhancedPlusPlusDependencies': [{'dep': 'ROOT', 'governor': 0, 'governorGloss': 'ROOT', 'dependent': 6, 'dependentGloss': 'put'}, {'dep': 'cc', 'governor': 6, 'governorGloss': 'put', 'dependent': 1, 'dependentGloss': 'And'}, {'dep': 'advmod', 'governor': 3, 'governorGloss': 'else', 'dependent': 2, 'dependentGloss': 'how'}, {'dep': 'advmod', 'governor': 6, 'governorGloss': 'put', 'dependent': 3, 'dependentGloss': 'else'}, {'dep': 'aux', 'governor': 6, 'governorGloss': 'put', 'dependent': 4, 'dependentGloss': 'could'}, {'dep': 'nsubj', 'governor': 6, 'governorGloss': 'put', 'dependent': 5, 'dependentGloss': 'you'}, {'dep': 'nummod', 'governor': 8, 'governorGloss': 'minutes', 'dependent': 7, 'dependentGloss': '11'}, {'dep': 'dobj', 'governor': 6, 'governorGloss': 'put', 'dependent': 8, 'dependentGloss': 'minutes'}, {'dep': 'case', 'governor': 12, 'governorGloss': 'disk', 'dependent': 9, 'dependentGloss': 'on'}, {'dep': 'nummod', 'governor': 12, 'governorGloss': 'disk', 'dependent': 10, 'dependentGloss': 'one'}, {'dep': 'amod', 'governor': 12, 'governorGloss': 'disk', 'dependent': 11, 'dependentGloss': 'floppy'}, {'dep': 'nmod:on', 'governor': 6, 'governorGloss': 'put', 'dependent': 12, 'dependentGloss': 'disk'}, {'dep': 'punct', 'governor': 6, 'governorGloss': 'put', 'dependent': 13, 'dependentGloss': '?'}], 'tokens': [{'index': 1, 'word': 'And', 'originalText': 'And', 'characterOffsetBegin': 0, 'characterOffsetEnd': 3, 'pos': 'CC', 'before': '', 'after': ' '}, {'index': 2, 'word': 'how', 'originalText': 'how', 'characterOffsetBegin': 4, 'characterOffsetEnd': 7, 'pos': 'WRB', 'before': ' ', 'after': ' '}, {'index': 3, 'word': 'else', 'originalText': 'else', 'characterOffsetBegin': 8, 'characterOffsetEnd': 12, 'pos': 'RB', 'before': ' ', 'after': ' '}, {'index': 4, 'word': 'could', 'originalText': 'could', 'characterOffsetBegin': 13, 'characterOffsetEnd': 18, 'pos': 'MD', 'before': ' ', 'after': ' '}, {'index': 5, 'word': 'you', 'originalText': 'you', 'characterOffsetBegin': 19, 'characterOffsetEnd': 22, 'pos': 'PRP', 'before': ' ', 'after': ' '}, {'index': 6, 'word': 'put', 'originalText': 'put', 'characterOffsetBegin': 23, 'characterOffsetEnd': 26, 'pos': 'VB', 'before': ' ', 'after': ' '}, {'index': 7, 'word': '11', 'originalText': '11', 'characterOffsetBegin': 27, 'characterOffsetEnd': 29, 'pos': 'CD', 'before': ' ', 'after': ' '}, {'index': 8, 'word': 'minutes', 'originalText': 'minutes', 'characterOffsetBegin': 30, 'characterOffsetEnd': 37, 'pos': 'NNS', 'before': ' ', 'after': ' '}, {'index': 9, 'word': 'on', 'originalText': 'on', 'characterOffsetBegin': 38, 'characterOffsetEnd': 40, 'pos': 'IN', 'before': ' ', 'after': ' '}, {'index': 10, 'word': 'one', 'originalText': 'one', 'characterOffsetBegin': 41, 'characterOffsetEnd': 44, 'pos': 'CD', 'before': ' ', 'after': ' '}, {'index': 11, 'word': 'floppy', 'originalText': 'floppy', 'characterOffsetBegin': 45, 'characterOffsetEnd': 51, 'pos': 'JJ', 'before': ' ', 'after': ' '}, {'index': 12, 'word': 'disk', 'originalText': 'disk', 'characterOffsetBegin': 52, 'characterOffsetEnd': 56, 'pos': 'NN', 'before': ' ', 'after': ''}, {'index': 13, 'word': '?', 'originalText': '?', 'characterOffsetBegin': 56, 'characterOffsetEnd': 57, 'pos': '.', 'before': '', 'after': ''}]}]}]\n"
     ]
    }
   ],
   "source": [
    "import json\n",
    "with open(\"exampleres.json\",encoding=\"utf8\")as f:\n",
    "    res = json.load(f)\n",
    "print(res)"
   ]
  },
  {
   "cell_type": "code",
   "execution_count": 5,
   "metadata": {},
   "outputs": [],
   "source": [
    "t = Tree.fromstring(res[0][\"sentences\"][0][\"parse\"])"
   ]
  },
  {
   "cell_type": "code",
   "execution_count": 12,
   "metadata": {},
   "outputs": [
    {
     "data": {
      "text/plain": [
       "[{'index': 1,\n",
       "  'word': 'In',\n",
       "  'originalText': 'In',\n",
       "  'characterOffsetBegin': 0,\n",
       "  'characterOffsetEnd': 2,\n",
       "  'pos': 'IN',\n",
       "  'before': '',\n",
       "  'after': ' '},\n",
       " {'index': 2,\n",
       "  'word': 'regards',\n",
       "  'originalText': 'regards',\n",
       "  'characterOffsetBegin': 3,\n",
       "  'characterOffsetEnd': 10,\n",
       "  'pos': 'VBZ',\n",
       "  'before': ' ',\n",
       "  'after': ' '},\n",
       " {'index': 3,\n",
       "  'word': 'to',\n",
       "  'originalText': 'to',\n",
       "  'characterOffsetBegin': 11,\n",
       "  'characterOffsetEnd': 13,\n",
       "  'pos': 'TO',\n",
       "  'before': ' ',\n",
       "  'after': ' '},\n",
       " {'index': 4,\n",
       "  'word': 'fractal',\n",
       "  'originalText': 'fractal',\n",
       "  'characterOffsetBegin': 14,\n",
       "  'characterOffsetEnd': 21,\n",
       "  'pos': 'JJ',\n",
       "  'before': ' ',\n",
       "  'after': ' '},\n",
       " {'index': 5,\n",
       "  'word': 'commpression',\n",
       "  'originalText': 'commpression',\n",
       "  'characterOffsetBegin': 22,\n",
       "  'characterOffsetEnd': 34,\n",
       "  'pos': 'NN',\n",
       "  'before': ' ',\n",
       "  'after': ''},\n",
       " {'index': 6,\n",
       "  'word': ',',\n",
       "  'originalText': ',',\n",
       "  'characterOffsetBegin': 34,\n",
       "  'characterOffsetEnd': 35,\n",
       "  'pos': ',',\n",
       "  'before': '',\n",
       "  'after': ' '},\n",
       " {'index': 7,\n",
       "  'word': 'I',\n",
       "  'originalText': 'I',\n",
       "  'characterOffsetBegin': 36,\n",
       "  'characterOffsetEnd': 37,\n",
       "  'pos': 'PRP',\n",
       "  'before': ' ',\n",
       "  'after': ' '},\n",
       " {'index': 8,\n",
       "  'word': 'have',\n",
       "  'originalText': 'have',\n",
       "  'characterOffsetBegin': 38,\n",
       "  'characterOffsetEnd': 42,\n",
       "  'pos': 'VBP',\n",
       "  'before': ' ',\n",
       "  'after': ' '},\n",
       " {'index': 9,\n",
       "  'word': 'seen',\n",
       "  'originalText': 'seen',\n",
       "  'characterOffsetBegin': 43,\n",
       "  'characterOffsetEnd': 47,\n",
       "  'pos': 'VBN',\n",
       "  'before': ' ',\n",
       "  'after': ' '},\n",
       " {'index': 10,\n",
       "  'word': '2',\n",
       "  'originalText': '2',\n",
       "  'characterOffsetBegin': 48,\n",
       "  'characterOffsetEnd': 49,\n",
       "  'pos': 'CD',\n",
       "  'before': ' ',\n",
       "  'after': ' '},\n",
       " {'index': 11,\n",
       "  'word': 'fractal',\n",
       "  'originalText': 'fractal',\n",
       "  'characterOffsetBegin': 50,\n",
       "  'characterOffsetEnd': 57,\n",
       "  'pos': 'JJ',\n",
       "  'before': ' ',\n",
       "  'after': ' '},\n",
       " {'index': 12,\n",
       "  'word': 'compressed',\n",
       "  'originalText': 'compressed',\n",
       "  'characterOffsetBegin': 58,\n",
       "  'characterOffsetEnd': 68,\n",
       "  'pos': 'VBN',\n",
       "  'before': ' ',\n",
       "  'after': ' '},\n",
       " {'index': 13,\n",
       "  'word': '``',\n",
       "  'originalText': '\"',\n",
       "  'characterOffsetBegin': 69,\n",
       "  'characterOffsetEnd': 70,\n",
       "  'pos': '``',\n",
       "  'before': ' ',\n",
       "  'after': ''},\n",
       " {'index': 14,\n",
       "  'word': 'movies',\n",
       "  'originalText': 'movies',\n",
       "  'characterOffsetBegin': 70,\n",
       "  'characterOffsetEnd': 76,\n",
       "  'pos': 'NNS',\n",
       "  'before': '',\n",
       "  'after': ''},\n",
       " {'index': 15,\n",
       "  'word': \"''\",\n",
       "  'originalText': '\"',\n",
       "  'characterOffsetBegin': 76,\n",
       "  'characterOffsetEnd': 77,\n",
       "  'pos': \"''\",\n",
       "  'before': '',\n",
       "  'after': ''},\n",
       " {'index': 16,\n",
       "  'word': '.',\n",
       "  'originalText': '.',\n",
       "  'characterOffsetBegin': 77,\n",
       "  'characterOffsetEnd': 78,\n",
       "  'pos': '.',\n",
       "  'before': '',\n",
       "  'after': ''}]"
      ]
     },
     "execution_count": 12,
     "metadata": {},
     "output_type": "execute_result"
    }
   ],
   "source": [
    "res[0][\"sentences\"][0][\"tokens\"]"
   ]
  },
  {
   "cell_type": "code",
   "execution_count": 9,
   "metadata": {},
   "outputs": [
    {
     "name": "stdout",
     "output_type": "stream",
     "text": [
      "                                                      ROOT                                                   \n",
      "                                                       |                                                      \n",
      "                                                       S                                                     \n",
      "              _________________________________________|___________________________________________________   \n",
      "             |                                 |   |        VP                                             | \n",
      "             |                                 |   |    ____|____                                          |  \n",
      "             |                                 |   |   |         VP                                        | \n",
      "             |                                 |   |   |     ____|______________                           |  \n",
      "            SBAR                               |   |   |    |                   S                          | \n",
      "  ___________|____                             |   |   |    |     ______________|___________               |  \n",
      " |                S                            |   |   |    |    |     |                    S              | \n",
      " |                |                            |   |   |    |    |     |                    |              |  \n",
      " |                VP                           |   |   |    |    |     |                    VP             | \n",
      " |      __________|_____                       |   |   |    |    |     |         ___________|____          |  \n",
      " |     |                PP                     |   |   |    |    |     |        |                S         | \n",
      " |     |      __________|_____                 |   |   |    |    |     |        |        ________|_____    |  \n",
      " |     |     |                NP               |   NP  |    |    NP   ADJP      |       |        NP    |   | \n",
      " |     |     |           _____|_______         |   |   |    |    |     |        |       |        |     |   |  \n",
      " IN   VBZ    TO         JJ            NN       ,  PRP VBP  VBN   CD    JJ      VBN      ``      NNS    ''  . \n",
      " |     |     |          |             |        |   |   |    |    |     |        |       |        |     |   |  \n",
      " In regards  to      fractal     commpression  ,   I  have seen  2  fractal compressed  ``     movies  ''  . \n",
      "\n"
     ]
    }
   ],
   "source": [
    "t.pretty_print()"
   ]
  },
  {
   "cell_type": "code",
   "execution_count": null,
   "metadata": {},
   "outputs": [],
   "source": []
  }
 ],
 "metadata": {
  "kernelspec": {
   "display_name": "lda362",
   "language": "python",
   "name": "lda362"
  },
  "language_info": {
   "codemirror_mode": {
    "name": "ipython",
    "version": 3
   },
   "file_extension": ".py",
   "mimetype": "text/x-python",
   "name": "python",
   "nbconvert_exporter": "python",
   "pygments_lexer": "ipython3",
   "version": "3.6.2"
  }
 },
 "nbformat": 4,
 "nbformat_minor": 4
}
