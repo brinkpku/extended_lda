{
 "cells": [
  {
   "cell_type": "code",
   "execution_count": 10,
   "metadata": {},
   "outputs": [],
   "source": [
    "import preprocess as pp\n",
    "import configs\n",
    "import persister\n",
    "import relation\n",
    "import lda\n",
    "\n",
    "import re\n",
    "import json\n",
    "\n",
    "from stanfordcorenlp import StanfordCoreNLP\n",
    "from nltk import sent_tokenize, word_tokenize, pos_tag\n",
    "from nltk.corpus import wordnet\n",
    "from nltk.tree import Tree\n",
    "import matplotlib.pyplot as plt\n",
    "import pandas as pd"
   ]
  },
  {
   "cell_type": "code",
   "execution_count": null,
   "metadata": {},
   "outputs": [],
   "source": [
    "# 文档向量化测试\n",
    "# count vectorizer"
   ]
  },
  {
   "cell_type": "code",
   "execution_count": null,
   "metadata": {},
   "outputs": [],
   "source": [
    "a = \"Many existing knowledge bases(KBs), including Freebase, Yago, and NELL, rely on a ﬁxed ontology, given as an input to the system, which deﬁnes the data to be cataloged in the KB, i.e., a hierarchy of categories and relations between them. The system then extracts facts that match the predeﬁned ontology. We propose an unsupervised model that jointly learns a latent ontological structure of an input corpus, and identiﬁes facts from the corpus that match the learned structure. Our approach combines mixed membership stochastic block models and topic models to infer a structure by jointly modeling text, a latent concept hierarchy, and latent semantic relationships among the entities mentioned in the text. As a case study, we apply the model to a corpus of Web documents from the software domain,and evaluate the accuracy of the various components of the learned ontology. \"\n",
    "b = [\"hello world. what the fuck.\"]"
   ]
  },
  {
   "cell_type": "code",
   "execution_count": null,
   "metadata": {},
   "outputs": [],
   "source": [
    "c = [\" \".join(preprocess(a))]\n",
    "vector = CountVectorizer(ngram_range=(1, 2), vocabulary=[\"knowledge base\"], stop_words='english')\n",
    "vector.build_analyzer()\n",
    "x = vector.fit_transform(c)"
   ]
  },
  {
   "cell_type": "code",
   "execution_count": null,
   "metadata": {},
   "outputs": [],
   "source": [
    "estimator = CountVectorizer(ngram_range=(1, 2), vocabulary=['fuck', 'hello', 'world', \"hello world\"], stop_words='english')\n",
    "estimator.build_analyzer()\n",
    "res = estimator.fit_transform(b)"
   ]
  },
  {
   "cell_type": "code",
   "execution_count": null,
   "metadata": {},
   "outputs": [],
   "source": [
    "estimator.get_feature_names()"
   ]
  },
  {
   "cell_type": "code",
   "execution_count": null,
   "metadata": {},
   "outputs": [],
   "source": [
    "res.toarray()\n",
    "# estimator.vocabulary_"
   ]
  },
  {
   "cell_type": "code",
   "execution_count": null,
   "metadata": {},
   "outputs": [],
   "source": [
    "# 斯坦福nlp工具测试\n",
    "# stanfordcorenlp"
   ]
  },
  {
   "cell_type": "code",
   "execution_count": null,
   "metadata": {},
   "outputs": [],
   "source": [
    "nlp = StanfordCoreNLP('/mnt/d/stanford-corenlp-full-2018-02-27', port=9000)\n",
    "sentence = 'Brink is taking part in the final exercise.'\n",
    "print('Tokenize:', nlp.word_tokenize(sentence))\n",
    "print('Part of Speech:', nlp.pos_tag(sentence))\n",
    "print('Named Entities:', nlp.ner(sentence))\n",
    "print('Constituency Parsing:', nlp.parse(sentence))\n",
    "print('Dependency Parsing:', nlp.dependency_parse(sentence))\n",
    "\n",
    "nlp.close() # Do not forget to close! The backend server will consume a lot memery."
   ]
  },
  {
   "cell_type": "code",
   "execution_count": null,
   "metadata": {},
   "outputs": [],
   "source": [
    "# 官方corenlp api\n",
    "# stanza"
   ]
  },
  {
   "cell_type": "code",
   "execution_count": null,
   "metadata": {},
   "outputs": [],
   "source": [
    "from stanza.server import CoreNLPClient\n",
    "with CoreNLPClient(properties=\"./corenlp_server.props\", timeout=30000, memory='5G') as client:\n",
    "    res = relation.corenlp_annotate(client, pp.format_news(newsdata[0]))"
   ]
  },
  {
   "cell_type": "code",
   "execution_count": null,
   "metadata": {},
   "outputs": [],
   "source": [
    "# 新闻数据集测试\n",
    "# 20newsgroups"
   ]
  },
  {
   "cell_type": "code",
   "execution_count": null,
   "metadata": {},
   "outputs": [],
   "source": [
    "import newsgroups\n",
    "size = 500\n",
    "tmp = newsgroups.get_news_data(size)\n",
    "newsdata = []\n",
    "for cate in tmp:\n",
    "    newsdata.extend(cate)"
   ]
  },
  {
   "cell_type": "code",
   "execution_count": null,
   "metadata": {},
   "outputs": [],
   "source": [
    "texts = [' '.join(pp.preprocess_abstract(a))\n",
    "persister.save_json(configs.NEWSDATA, texts)"
   ]
  },
  {
   "cell_type": "code",
   "execution_count": null,
   "metadata": {},
   "outputs": [],
   "source": [
    "# 处理成句子\n",
    "# nltk.sent_tokenize"
   ]
  },
  {
   "cell_type": "code",
   "execution_count": null,
   "metadata": {},
   "outputs": [],
   "source": [
    "newssent = []\n",
    "for news in newsdata:\n",
    "    newssent.append(pp.split2sent(news))\n",
    "persister.save_json(configs.NEWSSENT, newssent)"
   ]
  },
  {
   "cell_type": "code",
   "execution_count": null,
   "metadata": {},
   "outputs": [],
   "source": [
    "newssenttoken = []\n",
    "for news in newssent:\n",
    "    tokenized_lemmatized_news = []\n",
    "    for sent in news:\n",
    "        tokenized_lemmatized_news.append(relation.lemmatize_sent_words(sent))\n",
    "    newssenttoken.append(tokenized_lemmatized_news)\n",
    "persister.save_json(configs.NEWSSENTTOKEN, newssenttoken)"
   ]
  },
  {
   "cell_type": "code",
   "execution_count": null,
   "metadata": {},
   "outputs": [],
   "source": [
    "# load preprossed data"
   ]
  },
  {
   "cell_type": "code",
   "execution_count": 3,
   "metadata": {},
   "outputs": [],
   "source": [
    "rawnews = persister.load_json(configs.RAWNEWS)\n",
    "newsparse = persister.read_parse()"
   ]
  },
  {
   "cell_type": "code",
   "execution_count": 2,
   "metadata": {},
   "outputs": [
    {
     "name": "stdout",
     "output_type": "stream",
     "text": [
      "# 1 --------------------\n",
      "year:508.9541866901299\n",
      "game:443.9033618736783\n",
      "write:438.65308659853997\n",
      "article:366.4270013554107\n",
      "team:337.18548035608643\n",
      "run:313.780031982071\n",
      "win:307.57820232525216\n",
      "think:297.71196933094467\n",
      "good:270.6223635495843\n",
      "player:260.09724357320573\n",
      "hit:247.2249012648063\n",
      "say:224.46544095582897\n",
      "like:223.52287256311007\n",
      "baseball:216.24809130707138\n",
      "make:206.71042706363016\n",
      "know:206.22949787872153\n",
      "play:199.50017715000413\n",
      "better:194.14766649928782\n",
      "time:189.31177118340523\n",
      "come:186.9605581601146\n",
      "1857:0.9992238321423526\n",
      "1757:0.9988149661211185\n",
      "1533:0.9981753380975742\n",
      "1538:0.9981230250615637\n",
      "1552:0.9980779321475917\n",
      "1750:0.9980614086589686\n",
      "1925:0.9979448183244712\n",
      "1628:0.9979084452266498\n",
      "1555:0.9978550648191368\n",
      "1569:0.9977813916090588\n",
      "1664:0.9976221762961838\n",
      "1521:0.9974370977104446\n",
      "1656:0.9974313539615932\n",
      "1923:0.9974045980841548\n",
      "1577:0.9973554221245231\n",
      "1927:0.9971204221797614\n",
      "1512:0.9968003777481905\n",
      "1893:0.9967765449682371\n",
      "1568:0.9966854206514347\n",
      "1966:0.9965845954336768\n",
      "# 2 --------------------\n",
      "car:938.1941961233183\n",
      "write:445.30734185796797\n",
      "article:405.5441780846785\n",
      "like:317.8155480172676\n",
      "think:266.1624947743537\n",
      "use:225.78650338976234\n",
      "drive:220.67108122970726\n",
      "say:219.34738200040425\n",
      "know:205.30775271777554\n",
      "make:205.0107794276489\n",
      "time:201.91545267900952\n",
      "good:197.5352840620254\n",
      "engine:192.24708571457597\n",
      "look:191.27881244434565\n",
      "buy:177.70068319923266\n",
      "speed:169.02046649945044\n",
      "new:168.81902886834948\n",
      "year:165.17416717820655\n",
      "really:156.27370169946786\n",
      "want:143.4444800883347\n",
      "1091:0.9987455259090692\n",
      "1021:0.9980367522813017\n",
      "1456:0.9976255651262338\n",
      "1195:0.9974314868936102\n",
      "1018:0.99717761406673\n",
      "1062:0.9970774906596077\n",
      "1134:0.9970161418661939\n",
      "1437:0.9965135545158007\n",
      "1199:0.9964565841512003\n",
      "1200:0.9961775079350736\n",
      "1036:0.9960874917664463\n",
      "1130:0.996033117889193\n",
      "1343:0.9960119597155422\n",
      "1245:0.995955254100833\n",
      "1229:0.9958780972571369\n",
      "1358:0.9957602501767535\n",
      "1320:0.9957240791187518\n",
      "1226:0.9956942543850893\n",
      "1382:0.9955802509213755\n",
      "1012:0.9954763523549827\n",
      "# 3 --------------------\n",
      "use:657.4705982971672\n",
      "file:610.571216025115\n",
      "write:537.9074467754156\n",
      "window:512.4311091730973\n",
      "program:466.64800447837126\n",
      "output:387.83232815604816\n",
      "entry:351.37583725498325\n",
      "know:347.99825917409726\n",
      "line:303.8431024441577\n",
      "thanks:287.69374439736634\n",
      "need:264.13573704791986\n",
      "like:259.26433761899267\n",
      "look:256.8643513655943\n",
      "article:249.80952332526587\n",
      "display:237.50278279807\n",
      "problem:228.4594068000654\n",
      "work:224.05271621405154\n",
      "color:223.6788312739922\n",
      "run:210.97230611864447\n",
      "graphic:204.08220585052632\n",
      "998:0.9997939828985325\n",
      "785:0.9997893469352014\n",
      "442:0.9963340288613283\n",
      "20:0.9955883863331231\n",
      "850:0.9953874995527286\n",
      "881:0.9953513258300732\n",
      "671:0.9952082520533434\n",
      "947:0.9951143037643124\n",
      "878:0.9948867428369214\n",
      "705:0.9947274287621327\n",
      "579:0.9943986501662495\n",
      "741:0.9943543201446576\n",
      "112:0.9943053836183811\n",
      "288:0.9941701464362869\n",
      "653:0.994145902591649\n",
      "385:0.994114307820687\n",
      "867:0.9938516442365608\n",
      "507:0.993771598937765\n",
      "895:0.9935520849193797\n",
      "512:0.9935074815623733\n",
      "# 4 --------------------\n",
      "image:458.1619006879849\n",
      "available:436.0095911327786\n",
      "file:385.7180136066286\n",
      "use:365.45430010404175\n",
      "edu:354.64405105416677\n",
      "ftp:308.7009795336154\n",
      "widget:307.5406060578554\n",
      "version:305.768591262842\n",
      "pub:292.83588055099494\n",
      "server:287.6117130302912\n",
      "jpeg:274.2323736357485\n",
      "data:270.20155137038927\n",
      "graphics:264.15540300413295\n",
      "software:255.5882539449702\n",
      "sun:239.49710599989908\n",
      "information:237.1423633037962\n",
      "files:234.1984563333529\n",
      "motif:233.81852801116662\n",
      "list:233.15444322815742\n",
      "set:231.71929811032274\n",
      "432:0.9998550394703112\n",
      "160:0.9998380634711914\n",
      "554:0.9998082329424942\n",
      "60:0.9998055858805546\n",
      "898:0.9997967769052303\n",
      "847:0.9997843744056334\n",
      "888:0.9997824237982936\n",
      "991:0.9988380057851436\n",
      "733:0.9987015703074278\n",
      "672:0.9965292033079125\n",
      "239:0.9957625725134163\n",
      "309:0.995746262508469\n",
      "986:0.995641130336684\n",
      "858:0.9956066089611814\n",
      "835:0.9953992709461653\n",
      "892:0.9949138102366046\n",
      "553:0.9946184309678594\n",
      "946:0.9938195594021242\n",
      "954:0.9936152363982\n",
      "638:0.9931479352373188\n"
     ]
    }
   ],
   "source": [
    "# load lda res\n",
    "lda_input = persister.read_input(configs.NEWSINPUT)\n",
    "terms, doc_topic, topic_word = persister.read_lda(configs.NEWSLDA)\n",
    "lda.print_topics(topic_word, terms, doc_topic)\n",
    "top_terms, top_docs = lda.get_topics(topic_word, terms, doc_topic)"
   ]
  },
  {
   "cell_type": "code",
   "execution_count": 7,
   "metadata": {},
   "outputs": [
    {
     "name": "stdout",
     "output_type": "stream",
     "text": [
      "func extract_feature exec time: 0.3328721523284912\n",
      "func gridsearchCV exec time: 2116.7770416736603\n"
     ]
    }
   ],
   "source": [
    "param = lda.generate_lda_parameter(2,8,2,100)\n",
    "tf, _ = lda.extract_feature(lda_input)\n",
    "model = lda.gridsearchCV(param, tf)"
   ]
  },
  {
   "cell_type": "code",
   "execution_count": 11,
   "metadata": {},
   "outputs": [
    {
     "name": "stdout",
     "output_type": "stream",
     "text": [
      "3982.2215386460666\n"
     ]
    },
    {
     "data": {
      "text/html": [
       "<div>\n",
       "<style scoped>\n",
       "    .dataframe tbody tr th:only-of-type {\n",
       "        vertical-align: middle;\n",
       "    }\n",
       "\n",
       "    .dataframe tbody tr th {\n",
       "        vertical-align: top;\n",
       "    }\n",
       "\n",
       "    .dataframe thead th {\n",
       "        text-align: right;\n",
       "    }\n",
       "</style>\n",
       "<table border=\"1\" class=\"dataframe\">\n",
       "  <thead>\n",
       "    <tr style=\"text-align: right;\">\n",
       "      <th></th>\n",
       "      <th>mean_fit_time</th>\n",
       "      <th>std_fit_time</th>\n",
       "      <th>mean_score_time</th>\n",
       "      <th>std_score_time</th>\n",
       "      <th>param_batch_size</th>\n",
       "      <th>param_learning_decay</th>\n",
       "      <th>param_learning_method</th>\n",
       "      <th>param_max_iter</th>\n",
       "      <th>param_n_components</th>\n",
       "      <th>param_random_state</th>\n",
       "      <th>params</th>\n",
       "      <th>split0_test_score</th>\n",
       "      <th>split1_test_score</th>\n",
       "      <th>split2_test_score</th>\n",
       "      <th>split3_test_score</th>\n",
       "      <th>split4_test_score</th>\n",
       "      <th>mean_test_score</th>\n",
       "      <th>std_test_score</th>\n",
       "      <th>rank_test_score</th>\n",
       "    </tr>\n",
       "  </thead>\n",
       "  <tbody>\n",
       "    <tr>\n",
       "      <th>0</th>\n",
       "      <td>163.988342</td>\n",
       "      <td>9.160809</td>\n",
       "      <td>0.458747</td>\n",
       "      <td>0.052197</td>\n",
       "      <td>128</td>\n",
       "      <td>0.5</td>\n",
       "      <td>online</td>\n",
       "      <td>100</td>\n",
       "      <td>2</td>\n",
       "      <td>0</td>\n",
       "      <td>{'batch_size': 128, 'learning_decay': 0.5, 'le...</td>\n",
       "      <td>-380353.370148</td>\n",
       "      <td>-467148.648611</td>\n",
       "      <td>-455539.059726</td>\n",
       "      <td>-300155.684572</td>\n",
       "      <td>-277812.060993</td>\n",
       "      <td>-376201.764810</td>\n",
       "      <td>77519.698143</td>\n",
       "      <td>1</td>\n",
       "    </tr>\n",
       "    <tr>\n",
       "      <th>1</th>\n",
       "      <td>165.557594</td>\n",
       "      <td>2.746555</td>\n",
       "      <td>0.574846</td>\n",
       "      <td>0.067207</td>\n",
       "      <td>128</td>\n",
       "      <td>0.5</td>\n",
       "      <td>online</td>\n",
       "      <td>100</td>\n",
       "      <td>4</td>\n",
       "      <td>0</td>\n",
       "      <td>{'batch_size': 128, 'learning_decay': 0.5, 'le...</td>\n",
       "      <td>-401853.210712</td>\n",
       "      <td>-484655.038732</td>\n",
       "      <td>-469482.694829</td>\n",
       "      <td>-316743.267635</td>\n",
       "      <td>-293399.008725</td>\n",
       "      <td>-393226.644126</td>\n",
       "      <td>77542.011748</td>\n",
       "      <td>6</td>\n",
       "    </tr>\n",
       "    <tr>\n",
       "      <th>2</th>\n",
       "      <td>157.567629</td>\n",
       "      <td>6.848961</td>\n",
       "      <td>0.440561</td>\n",
       "      <td>0.050502</td>\n",
       "      <td>128</td>\n",
       "      <td>0.5</td>\n",
       "      <td>online</td>\n",
       "      <td>100</td>\n",
       "      <td>6</td>\n",
       "      <td>0</td>\n",
       "      <td>{'batch_size': 128, 'learning_decay': 0.5, 'le...</td>\n",
       "      <td>-414787.378287</td>\n",
       "      <td>-494621.760652</td>\n",
       "      <td>-481910.165183</td>\n",
       "      <td>-329635.281048</td>\n",
       "      <td>-306540.801663</td>\n",
       "      <td>-405499.077367</td>\n",
       "      <td>76701.806333</td>\n",
       "      <td>9</td>\n",
       "    </tr>\n",
       "    <tr>\n",
       "      <th>3</th>\n",
       "      <td>153.572843</td>\n",
       "      <td>3.999041</td>\n",
       "      <td>0.469639</td>\n",
       "      <td>0.057217</td>\n",
       "      <td>128</td>\n",
       "      <td>0.7</td>\n",
       "      <td>online</td>\n",
       "      <td>100</td>\n",
       "      <td>2</td>\n",
       "      <td>0</td>\n",
       "      <td>{'batch_size': 128, 'learning_decay': 0.7, 'le...</td>\n",
       "      <td>-380563.282433</td>\n",
       "      <td>-467467.276657</td>\n",
       "      <td>-455533.746300</td>\n",
       "      <td>-300372.372228</td>\n",
       "      <td>-278553.557851</td>\n",
       "      <td>-376498.047094</td>\n",
       "      <td>77365.121291</td>\n",
       "      <td>2</td>\n",
       "    </tr>\n",
       "    <tr>\n",
       "      <th>4</th>\n",
       "      <td>162.620523</td>\n",
       "      <td>14.947876</td>\n",
       "      <td>0.587544</td>\n",
       "      <td>0.077781</td>\n",
       "      <td>128</td>\n",
       "      <td>0.7</td>\n",
       "      <td>online</td>\n",
       "      <td>100</td>\n",
       "      <td>4</td>\n",
       "      <td>0</td>\n",
       "      <td>{'batch_size': 128, 'learning_decay': 0.7, 'le...</td>\n",
       "      <td>-401116.363384</td>\n",
       "      <td>-488166.744452</td>\n",
       "      <td>-468828.690617</td>\n",
       "      <td>-314036.364971</td>\n",
       "      <td>-292825.492494</td>\n",
       "      <td>-392994.731184</td>\n",
       "      <td>78921.178903</td>\n",
       "      <td>5</td>\n",
       "    </tr>\n",
       "    <tr>\n",
       "      <th>5</th>\n",
       "      <td>202.986743</td>\n",
       "      <td>6.626741</td>\n",
       "      <td>0.698683</td>\n",
       "      <td>0.166312</td>\n",
       "      <td>128</td>\n",
       "      <td>0.7</td>\n",
       "      <td>online</td>\n",
       "      <td>100</td>\n",
       "      <td>6</td>\n",
       "      <td>0</td>\n",
       "      <td>{'batch_size': 128, 'learning_decay': 0.7, 'le...</td>\n",
       "      <td>-414231.835907</td>\n",
       "      <td>-491898.100066</td>\n",
       "      <td>-479187.411902</td>\n",
       "      <td>-323782.149397</td>\n",
       "      <td>-303507.558179</td>\n",
       "      <td>-402521.411090</td>\n",
       "      <td>77468.208528</td>\n",
       "      <td>8</td>\n",
       "    </tr>\n",
       "    <tr>\n",
       "      <th>6</th>\n",
       "      <td>186.126028</td>\n",
       "      <td>5.951373</td>\n",
       "      <td>0.493955</td>\n",
       "      <td>0.107911</td>\n",
       "      <td>128</td>\n",
       "      <td>0.9</td>\n",
       "      <td>online</td>\n",
       "      <td>100</td>\n",
       "      <td>2</td>\n",
       "      <td>0</td>\n",
       "      <td>{'batch_size': 128, 'learning_decay': 0.9, 'le...</td>\n",
       "      <td>-380670.757490</td>\n",
       "      <td>-467356.457289</td>\n",
       "      <td>-455399.729700</td>\n",
       "      <td>-301781.553797</td>\n",
       "      <td>-280161.889926</td>\n",
       "      <td>-377074.077641</td>\n",
       "      <td>76628.569380</td>\n",
       "      <td>3</td>\n",
       "    </tr>\n",
       "    <tr>\n",
       "      <th>7</th>\n",
       "      <td>152.445740</td>\n",
       "      <td>5.213483</td>\n",
       "      <td>0.510927</td>\n",
       "      <td>0.060969</td>\n",
       "      <td>128</td>\n",
       "      <td>0.9</td>\n",
       "      <td>online</td>\n",
       "      <td>100</td>\n",
       "      <td>4</td>\n",
       "      <td>0</td>\n",
       "      <td>{'batch_size': 128, 'learning_decay': 0.9, 'le...</td>\n",
       "      <td>-392174.721214</td>\n",
       "      <td>-485185.334291</td>\n",
       "      <td>-469256.075397</td>\n",
       "      <td>-309685.991277</td>\n",
       "      <td>-290321.488165</td>\n",
       "      <td>-389324.722069</td>\n",
       "      <td>79662.247622</td>\n",
       "      <td>4</td>\n",
       "    </tr>\n",
       "    <tr>\n",
       "      <th>8</th>\n",
       "      <td>155.853137</td>\n",
       "      <td>4.780468</td>\n",
       "      <td>0.508489</td>\n",
       "      <td>0.091187</td>\n",
       "      <td>128</td>\n",
       "      <td>0.9</td>\n",
       "      <td>online</td>\n",
       "      <td>100</td>\n",
       "      <td>6</td>\n",
       "      <td>0</td>\n",
       "      <td>{'batch_size': 128, 'learning_decay': 0.9, 'le...</td>\n",
       "      <td>-405520.012345</td>\n",
       "      <td>-495813.363481</td>\n",
       "      <td>-479878.148003</td>\n",
       "      <td>-323896.744726</td>\n",
       "      <td>-299043.224357</td>\n",
       "      <td>-400830.298582</td>\n",
       "      <td>79462.845052</td>\n",
       "      <td>7</td>\n",
       "    </tr>\n",
       "  </tbody>\n",
       "</table>\n",
       "</div>"
      ],
      "text/plain": [
       "   mean_fit_time  std_fit_time  mean_score_time  std_score_time  \\\n",
       "0     163.988342      9.160809         0.458747        0.052197   \n",
       "1     165.557594      2.746555         0.574846        0.067207   \n",
       "2     157.567629      6.848961         0.440561        0.050502   \n",
       "3     153.572843      3.999041         0.469639        0.057217   \n",
       "4     162.620523     14.947876         0.587544        0.077781   \n",
       "5     202.986743      6.626741         0.698683        0.166312   \n",
       "6     186.126028      5.951373         0.493955        0.107911   \n",
       "7     152.445740      5.213483         0.510927        0.060969   \n",
       "8     155.853137      4.780468         0.508489        0.091187   \n",
       "\n",
       "  param_batch_size param_learning_decay param_learning_method param_max_iter  \\\n",
       "0              128                  0.5                online            100   \n",
       "1              128                  0.5                online            100   \n",
       "2              128                  0.5                online            100   \n",
       "3              128                  0.7                online            100   \n",
       "4              128                  0.7                online            100   \n",
       "5              128                  0.7                online            100   \n",
       "6              128                  0.9                online            100   \n",
       "7              128                  0.9                online            100   \n",
       "8              128                  0.9                online            100   \n",
       "\n",
       "  param_n_components param_random_state  \\\n",
       "0                  2                  0   \n",
       "1                  4                  0   \n",
       "2                  6                  0   \n",
       "3                  2                  0   \n",
       "4                  4                  0   \n",
       "5                  6                  0   \n",
       "6                  2                  0   \n",
       "7                  4                  0   \n",
       "8                  6                  0   \n",
       "\n",
       "                                              params  split0_test_score  \\\n",
       "0  {'batch_size': 128, 'learning_decay': 0.5, 'le...     -380353.370148   \n",
       "1  {'batch_size': 128, 'learning_decay': 0.5, 'le...     -401853.210712   \n",
       "2  {'batch_size': 128, 'learning_decay': 0.5, 'le...     -414787.378287   \n",
       "3  {'batch_size': 128, 'learning_decay': 0.7, 'le...     -380563.282433   \n",
       "4  {'batch_size': 128, 'learning_decay': 0.7, 'le...     -401116.363384   \n",
       "5  {'batch_size': 128, 'learning_decay': 0.7, 'le...     -414231.835907   \n",
       "6  {'batch_size': 128, 'learning_decay': 0.9, 'le...     -380670.757490   \n",
       "7  {'batch_size': 128, 'learning_decay': 0.9, 'le...     -392174.721214   \n",
       "8  {'batch_size': 128, 'learning_decay': 0.9, 'le...     -405520.012345   \n",
       "\n",
       "   split1_test_score  split2_test_score  split3_test_score  split4_test_score  \\\n",
       "0     -467148.648611     -455539.059726     -300155.684572     -277812.060993   \n",
       "1     -484655.038732     -469482.694829     -316743.267635     -293399.008725   \n",
       "2     -494621.760652     -481910.165183     -329635.281048     -306540.801663   \n",
       "3     -467467.276657     -455533.746300     -300372.372228     -278553.557851   \n",
       "4     -488166.744452     -468828.690617     -314036.364971     -292825.492494   \n",
       "5     -491898.100066     -479187.411902     -323782.149397     -303507.558179   \n",
       "6     -467356.457289     -455399.729700     -301781.553797     -280161.889926   \n",
       "7     -485185.334291     -469256.075397     -309685.991277     -290321.488165   \n",
       "8     -495813.363481     -479878.148003     -323896.744726     -299043.224357   \n",
       "\n",
       "   mean_test_score  std_test_score  rank_test_score  \n",
       "0   -376201.764810    77519.698143                1  \n",
       "1   -393226.644126    77542.011748                6  \n",
       "2   -405499.077367    76701.806333                9  \n",
       "3   -376498.047094    77365.121291                2  \n",
       "4   -392994.731184    78921.178903                5  \n",
       "5   -402521.411090    77468.208528                8  \n",
       "6   -377074.077641    76628.569380                3  \n",
       "7   -389324.722069    79662.247622                4  \n",
       "8   -400830.298582    79462.845052                7  "
      ]
     },
     "execution_count": 11,
     "metadata": {},
     "output_type": "execute_result"
    }
   ],
   "source": [
    "print(model.best_estimator_.perplexity(tf))\n",
    "pd.DataFrame(model.cv_results_)"
   ]
  },
  {
   "cell_type": "code",
   "execution_count": 9,
   "metadata": {},
   "outputs": [
    {
     "name": "stdout",
     "output_type": "stream",
     "text": [
      "[-376202.0, -393227.0, -405499.0]\n",
      "[-376498.0, -392995.0, -402521.0]\n"
     ]
    },
    {
     "data": {
      "image/png": "[encoded data removed]",
      "text/plain": [
       "<Figure size 864x576 with 1 Axes>"
      ]
     },
     "metadata": {
      "needs_background": "light"
     },
     "output_type": "display_data"
    }
   ],
   "source": [
    "n_topics = list(range(2,8,2))\n",
    "score = 'mean_test_score'\n",
    "# score = 'std_test_score'\n",
    "log_likelyhoods_5 = [round(s) for s in model.cv_results_[score][:len(n_topics)]] \n",
    "log_likelyhoods_7 = [round(s) for s in model.cv_results_[score][len(n_topics):2*len(n_topics)]]\n",
    "log_likelyhoods_9 = [round(s) for s in model.cv_results_[score][2*len(n_topics):3*len(n_topics)]]\n",
    "\n",
    "# Show graph\n",
    "plt.figure(figsize=(12, 8))\n",
    "print(log_likelyhoods_5)\n",
    "print(log_likelyhoods_7)\n",
    "plt.plot(n_topics, log_likelyhoods_5, label='0.5')\n",
    "plt.plot(n_topics, log_likelyhoods_7, label='0.7')\n",
    "plt.plot(n_topics, log_likelyhoods_9, label='0.9')\n",
    "plt.title(\"Choosing Optimal LDA Model\")\n",
    "plt.xlabel(\"Num Topics\")\n",
    "plt.ylabel(\"Log Likelyhood Scores\")\n",
    "plt.legend(title='Learning decay', loc='best')\n",
    "plt.show()"
   ]
  },
  {
   "cell_type": "code",
   "execution_count": 3,
   "metadata": {
    "scrolled": true
   },
   "outputs": [
    {
     "name": "stdout",
     "output_type": "stream",
     "text": [
      "3593.5234556659657 -1620275.2828254758 3593.5234556659657 21 20\n"
     ]
    }
   ],
   "source": [
    "terms, doc_topic, topic_word, perplexity, score, bound, itercount,i = lda.new_lda(lda_input, topic_num=4)\n",
    "print(perplexity,score,bound,itercount,i)"
   ]
  },
  {
   "cell_type": "code",
   "execution_count": null,
   "metadata": {},
   "outputs": [],
   "source": [
    "from functools import reduce\n",
    "failed_idxs = []\n",
    "for idx, i in enumerate(newsparse):\n",
    "    if type(i) == str:\n",
    "        failed_idxs.append(idx)\n",
    "print(len(set(failed_idxs) & set(map(lambda x:x[0], reduce(lambda x,y:x+y, top_docs)))))\n",
    "print(len(set(map(lambda x:x[0], reduce(lambda x,y:x+y, top_docs)))))"
   ]
  },
  {
   "cell_type": "code",
   "execution_count": null,
   "metadata": {},
   "outputs": [],
   "source": [
    "idx_news = 1195\n",
    "idx_sent = 40"
   ]
  },
  {
   "cell_type": "code",
   "execution_count": null,
   "metadata": {},
   "outputs": [],
   "source": [
    "print(pos_tag(word_tokenize(newssent[idx_news][43])))\n",
    "print(pp.WNL.lemmatize(\"has\", wordnet.VERB))"
   ]
  },
  {
   "cell_type": "code",
   "execution_count": null,
   "metadata": {},
   "outputs": [],
   "source": [
    "print(len(newsparse[idx_news][\"sentences\"]))\n",
    "print(newsparse[idx_news][\"sentences\"][idx_sent].keys())\n",
    "examparse = newsparse[idx_news][\"sentences\"][idx_sent]\n",
    "print(examparse[\"enhancedPlusPlusDependencies\"])"
   ]
  },
  {
   "cell_type": "code",
   "execution_count": null,
   "metadata": {},
   "outputs": [],
   "source": [
    "tt = Tree.fromstring(examparse[\"parse\"])\n",
    "tt.pretty_print()"
   ]
  },
  {
   "cell_type": "code",
   "execution_count": null,
   "metadata": {},
   "outputs": [],
   "source": [
    "t4 = [t[0] for t in top_terms[3]]\n",
    "t4_values = [t[1] for t in top_terms[3]]\n",
    "print(t4)\n",
    "print(t4_values)\n",
    "idxs, importance, count = relation.extract_important_sents(newssenttoken[idx_news], t4, t4_values)\n",
    "print(idxs, importance[40], count[40])"
   ]
  },
  {
   "cell_type": "code",
   "execution_count": null,
   "metadata": {},
   "outputs": [],
   "source": [
    "relation.extract_word_relation_from_sent(i, newsparse[1200][\"sentences\"][sent_idx][\"enhancedDependencies\"])"
   ]
  },
  {
   "cell_type": "code",
   "execution_count": null,
   "metadata": {},
   "outputs": [],
   "source": [
    "for term in top_terms[3]:\n",
    "    for news in top_docs[3]:\n",
    "        time.sleep(2)\n",
    "        news_idx = news[0]\n",
    "        for sent_idx,sent in enumerate(newssenttoken[news_idx]):\n",
    "            if type(newsparse[news_idx]) is str:\n",
    "                print(news_idx, \"parse\", \"err\")\n",
    "                break\n",
    "            topic_word_idxs = relation.get_word_idx(term[0], sent)\n",
    "            for i in topic_word_idxs:\n",
    "                print(sent_idx, i, news_idx)\n",
    "                rs = relation.extract_word_relation_from_sent(i, newsparse[news_idx][\"sentences\"][sent_idx][\"enhancedDependencies\"])\n",
    "                for r in rs:\n",
    "                    print(relation.convert_relation2str(r))"
   ]
  },
  {
   "cell_type": "code",
   "execution_count": null,
   "metadata": {},
   "outputs": [],
   "source": [
    "t = Tree.fromstring(newsparse[idx_news][\"sentences\"][5][\"parse\"])\n",
    "t.pretty_print()"
   ]
  },
  {
   "cell_type": "code",
   "execution_count": null,
   "metadata": {},
   "outputs": [],
   "source": [
    "# abstract data"
   ]
  },
  {
   "cell_type": "code",
   "execution_count": 12,
   "metadata": {},
   "outputs": [],
   "source": [
    "raw_data = persister.load_json(configs.RAWABSTRACT)\n",
    "abslda_input = persister.read_input(configs.ABSTRACTINPUT)\n",
    "terms, doc_topic, topic_word = persister.read_lda(configs.ABSTRACTLDA)\n",
    "absparse = persister.read_parse(configs.ABSTRACTPARSE)"
   ]
  },
  {
   "cell_type": "code",
   "execution_count": null,
   "metadata": {},
   "outputs": [
    {
     "name": "stdout",
     "output_type": "stream",
     "text": [
      "func extract_feature exec time: 0.44123172760009766\n"
     ]
    }
   ],
   "source": [
    "param = lda.generate_lda_parameter(5,30,5,10)\n",
    "vec, _ = lda.extract_feature(abslda_input)\n",
    "model = lda.gridsearchCV(param, vec)"
   ]
  },
  {
   "cell_type": "code",
   "execution_count": null,
   "metadata": {},
   "outputs": [],
   "source": [
    "lda.print_topics(topic_word, terms, doc_topic)\n",
    "top_terms, top_docs = lda.get_topics(topic_word, terms, doc_topic)"
   ]
  }
 ],
 "metadata": {
  "kernelspec": {
   "display_name": "lda362",
   "language": "python",
   "name": "lda362"
  },
  "language_info": {
   "codemirror_mode": {
    "name": "ipython",
    "version": 3
   },
   "file_extension": ".py",
   "mimetype": "text/x-python",
   "name": "python",
   "nbconvert_exporter": "python",
   "pygments_lexer": "ipython3",
   "version": "3.6.2"
  }
 },
 "nbformat": 4,
 "nbformat_minor": 4
}
